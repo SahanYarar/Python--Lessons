{
 "cells": [
  {
   "cell_type": "code",
   "execution_count": null,
   "metadata": {},
   "outputs": [],
   "source": [
    "#Local host:8000'de çalışıyor öncelikle\n",
    "#python manage.py runserver dersek site çalışmaya başlıyor\n",
    "#python manage.py startapp isim yaparsan  app kuruyorsun sonra bu appı managedeki settingse tanıtmak\n",
    "#zorundasın"
   ]
  },
  {
   "cell_type": "code",
   "execution_count": null,
   "metadata": {},
   "outputs": [],
   "source": [
    "#Article appı\n",
    "class Article(models.Model):\n",
    "    author = models.ForeignKey(\"auth.User\",on_delete=models.CASCADE,verbose_name=\"Yazar\")\n",
    "    title  = models.CharField(max_length=50,verbose_name=\"Başlık\")\n",
    "    content = models.TextField(verbose_name=\"İçerik\")\n",
    "    created_date=models.DateTimeField(auto_now_add=True ,verbose_name=\"Oluşturulma tarihi\") \n",
    "print(\"\"\"****************************************\"\"\")\n",
    "from django.contrib import admin#Admin appı ne kayıt ediyoruz sonra\n",
    "from .models import Article\n",
    "\n",
    "# Register your models here.\n",
    "admin.site.register(Article)\n",
    "print(\"\"\"***********************************************\"\"\")\n",
    " python manage.py makemigrations #Bunu yapmak zorundasın hazır veriyor \n",
    "python manage.py migrate #Tabloyu oluşturmak için    "
   ]
  },
  {
   "cell_type": "code",
   "execution_count": null,
   "metadata": {},
   "outputs": [],
   "source": [
    "#python manage.py shell\n",
    "from django.contrib.auth.models import User\n",
    "\n",
    "from article.models import Article\n",
    "In [5]: User\n",
    "Out[5]: django.contrib.auth.models.User\n",
    "\n",
    "In [6]: Article\n",
    "Out[6]: article.models.Article\n",
    "In [8]: newUser= User(username=\"denemekullanıcı\",password=\"123\")\n",
    "In [10]: newUser.save()\n",
    "newUser3=User()\n",
    "\n",
    "In [15]: newUser3.username=\"denemekullanıcı3\"\n",
    "\n",
    "In [16]: newUser3.set_password(\"123\")\n",
    "\n",
    "In [17]: newUser3.first_name=\"Nihat\"\n",
    "\n",
    "In [18]: newUser3.save()\n",
    "#1. YOl\n",
    "In [19]: article= Article(title=\"Django shell Deneme\",content=\"İçerik İçerik\",author=newUser3)\n",
    "\n",
    "In [20]: article.save()    \n",
    "#2. YOl\n",
    "In [21]: article2=Article()\n",
    "\n",
    "In [22]: article2.title=\"deneme 15\"\n",
    "\n",
    "In [23]: article2.content=\"İçerik\"\n",
    "\n",
    "In [24]: article2.author=newUser3\n",
    "\n",
    "In [25]: article2.save()\n",
    "#3.Yol\n",
    "In [28]: Article.objects.create(title=\"Deneme 21\",content=\"21\",author=newUser2)\n",
    "print(\"\"\"*************************\"\"\")\n",
    "In [30]: article=Article.objects.create(title=\"Deneme 30\",content=\"30\",author=newUser2)\n",
    "\n",
    "In [31]: article.title\n",
    "Out[31]: 'Deneme 30'\n",
    "In [33]: article.title=\"Deneme 30 değişti\"\n",
    "\n",
    "In [34]: article.save()\n",
    "print(\"**********************\")\n",
    "In [38]: Article.objects.get(title=\"Naber\")\n",
    "Out[38]: <Article: Naber>\n",
    "In [40]: article=Article.objects.get(title=\"Naber\")    \n",
    "article.delete()#Silmek için    "
   ]
  },
  {
   "cell_type": "code",
   "execution_count": null,
   "metadata": {},
   "outputs": [],
   "source": [
    "In [44]: article=Article.objects.get(id=10)\n",
    "\n",
    "In [45]: article\n",
    "Out[45]: <Article: Deneme 30>\n",
    "\n",
    "In [46]: article.delete()\n",
    "Out[46]: (1, {'article.Article': 1})\n",
    "In [47]: Article.objects.filter(title__contains=\"Den\")   #İçinde den geçenleri al  "
   ]
  },
  {
   "cell_type": "code",
   "execution_count": null,
   "metadata": {},
   "outputs": [],
   "source": []
  },
  {
   "cell_type": "code",
   "execution_count": null,
   "metadata": {},
   "outputs": [],
   "source": []
  },
  {
   "cell_type": "code",
   "execution_count": null,
   "metadata": {},
   "outputs": [],
   "source": []
  },
  {
   "cell_type": "code",
   "execution_count": null,
   "metadata": {},
   "outputs": [],
   "source": []
  }
 ],
 "metadata": {
  "kernelspec": {
   "display_name": "Python 3",
   "language": "python",
   "name": "python3"
  },
  "language_info": {
   "codemirror_mode": {
    "name": "ipython",
    "version": 3
   },
   "file_extension": ".py",
   "mimetype": "text/x-python",
   "name": "python",
   "nbconvert_exporter": "python",
   "pygments_lexer": "ipython3",
   "version": "3.8.3"
  }
 },
 "nbformat": 4,
 "nbformat_minor": 4
}
