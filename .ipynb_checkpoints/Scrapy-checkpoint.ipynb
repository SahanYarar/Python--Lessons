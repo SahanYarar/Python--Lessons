{
 "cells": [
  {
   "cell_type": "code",
   "execution_count": null,
   "metadata": {},
   "outputs": [],
   "source": [
    "#Bunu yazınca bize hazır srapy koduveriyor *scrapy startproject tutorial*"
   ]
  },
  {
   "cell_type": "code",
   "execution_count": null,
   "metadata": {},
   "outputs": [],
   "source": [
    "import scrapy #Python dosyası açıp scrapy altında spider başlatıyoruz\n",
    "\n",
    "\n",
    "class QuotesSpider(scrapy.Spider):\n",
    "    name = \"quotes\"#Eşsiz olmak zorunda ismi\n",
    "\n",
    "    def start_requests(self):\n",
    "        urls = [\n",
    "            'http://quotes.toscrape.com/page/1/',\n",
    "            'http://quotes.toscrape.com/page/2/',\n",
    "        ]\n",
    "        for url in urls:\n",
    "            yield scrapy.Request(url=url, callback=self.parse)\n",
    "\n",
    "    def parse(self, response):\n",
    "        page = response.url.split(\"/\")[-2]\n",
    "        filename = f'quotes-{page}.html'\n",
    "        with open(filename, 'wb') as f:\n",
    "            f.write(response.body)\n",
    "        self.log(f'Saved file {filename}')"
   ]
  },
  {
   "cell_type": "code",
   "execution_count": null,
   "metadata": {},
   "outputs": [],
   "source": [
    "#Aldığımız kodları  response.css(\"title::text\").extract() yoluyla veya *response.css(\"title\").extract()* veya *response.css(\"title\")*\n",
    "#Şeklinde parçalaya biliriz *response.css(\"title::text\").extract()[0]* *response.css(\"title::text\").extract_first()*\n",
    "In [1]: response\n",
    "Out[1]: <200 http://quotes.toscrape.com/page/1/>\n",
    "\n",
    "In [2]: response.css(\"title\")\n",
    "Out[2]: [<Selector xpath='descendant-or-self::title' data='<title>Quotes to Scrape</title>'>]\n",
    "\n",
    "In [3]: response.css(\"title\").extract()\n",
    "Out[3]: ['<title>Quotes to Scrape</title>']\n",
    "\n",
    "In [4]: response.css(\"title::text\").extract()\n",
    "Out[4]: ['Quotes to Scrape']\n",
    "\n",
    "In [5]: response.css(\"title::text\").extract()[0]\n",
    "Out[5]: 'Quotes to Scrape'\n",
    "\n",
    "In [6]: response.css(\"title::text\").extract_first()\n",
    "Out[6]: 'Quotes to Scrape'"
   ]
  },
  {
   "cell_type": "code",
   "execution_count": null,
   "metadata": {},
   "outputs": [],
   "source": [
    "#Xpathle almak için \n",
    "In [7]: response.xpath('//title')\n",
    "Out[7]: [<Selector xpath='//title' data='<title>Quotes to Scrape</title>'>]\n",
    "\n",
    "In [8]:  response.xpath('//title').extract_first()\n",
    "Out[8]: '<title>Quotes to Scrape</title>'\n",
    "\n",
    "In [9]: response.xpath('//title/text()').extract_first()\n",
    "Out[9]: 'Quotes to Scrape'"
   ]
  },
  {
   "cell_type": "code",
   "execution_count": null,
   "metadata": {},
   "outputs": [],
   "source": [
    "for quote in response.css(\"div.quote\"):\n",
    "...     text = quote.css(\"span.text::text\").get()\n",
    "...     author = quote.css(\"small.author::text\").get()\n",
    "...     tags = quote.css(\"div.tags a.tag::text\").getall()\n",
    "...     print(dict(text=text, author=author, tags=tags))"
   ]
  }
 ],
 "metadata": {
  "kernelspec": {
   "display_name": "Python 3",
   "language": "python",
   "name": "python3"
  },
  "language_info": {
   "codemirror_mode": {
    "name": "ipython",
    "version": 3
   },
   "file_extension": ".py",
   "mimetype": "text/x-python",
   "name": "python",
   "nbconvert_exporter": "python",
   "pygments_lexer": "ipython3",
   "version": "3.8.3"
  }
 },
 "nbformat": 4,
 "nbformat_minor": 4
}
