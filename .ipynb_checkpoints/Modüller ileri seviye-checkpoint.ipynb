{
 "cells": [
  {
   "cell_type": "code",
   "execution_count": 1,
   "metadata": {},
   "outputs": [],
   "source": [
    "from datetime import datetime"
   ]
  },
  {
   "cell_type": "code",
   "execution_count": 2,
   "metadata": {},
   "outputs": [
    {
     "name": "stdout",
     "output_type": "stream",
     "text": [
      "2021-01-15 20:27:37.988373\n"
     ]
    }
   ],
   "source": [
    "print(datetime.now())"
   ]
  },
  {
   "cell_type": "code",
   "execution_count": 3,
   "metadata": {},
   "outputs": [
    {
     "name": "stdout",
     "output_type": "stream",
     "text": [
      "Şuanki zaman\n"
     ]
    }
   ],
   "source": [
    "print(\"Şuanki zaman\")"
   ]
  },
  {
   "cell_type": "code",
   "execution_count": 8,
   "metadata": {},
   "outputs": [
    {
     "name": "stdout",
     "output_type": "stream",
     "text": [
      "2021\n",
      "1\n",
      "20\n",
      "870867\n"
     ]
    }
   ],
   "source": [
    "şu_an=datetime.now()\n",
    "print(şu_an.year)\n",
    "print(şu_an.month)\n",
    "print(şu_an.hour)\n",
    "print(şu_an.microsecond)"
   ]
  },
  {
   "cell_type": "code",
   "execution_count": 10,
   "metadata": {},
   "outputs": [
    {
     "name": "stdout",
     "output_type": "stream",
     "text": [
      "*******************************************************\n"
     ]
    }
   ],
   "source": [
    "print(\"\"\"*******************************************************\"\"\")"
   ]
  },
  {
   "cell_type": "code",
   "execution_count": 9,
   "metadata": {},
   "outputs": [
    {
     "name": "stdout",
     "output_type": "stream",
     "text": [
      "Fri Jan 15 20:29:48 2021\n"
     ]
    }
   ],
   "source": [
    "print(datetime.ctime(şu_an))# daha güzel gösteriyor"
   ]
  },
  {
   "cell_type": "code",
   "execution_count": 11,
   "metadata": {},
   "outputs": [
    {
     "name": "stdout",
     "output_type": "stream",
     "text": [
      "*******************************************************\n"
     ]
    }
   ],
   "source": [
    "print(\"\"\"*******************************************************\"\"\")"
   ]
  },
  {
   "cell_type": "code",
   "execution_count": 13,
   "metadata": {},
   "outputs": [
    {
     "name": "stdout",
     "output_type": "stream",
     "text": [
      " Yıl bilgisini almak için : %Y\n",
      "\n",
      "    Ay ismini almak için : %B\n",
      "\n",
      "    Gün ismini almak için : %A\n",
      "\n",
      "    Saat bilgisini almak için : %X\n",
      "\n",
      "    Gün bilgisini almak için : %D\n",
      "\n"
     ]
    }
   ],
   "source": [
    "print(\"\"\" Yıl bilgisini almak için : %Y\n",
    "\n",
    "    Ay ismini almak için : %B\n",
    "\n",
    "    Gün ismini almak için : %A\n",
    "\n",
    "    Saat bilgisini almak için : %X\n",
    "\n",
    "    Gün bilgisini almak için : %D\n",
    "\"\"\")"
   ]
  },
  {
   "cell_type": "code",
   "execution_count": 16,
   "metadata": {},
   "outputs": [],
   "source": [
    "import locale"
   ]
  },
  {
   "cell_type": "code",
   "execution_count": 17,
   "metadata": {},
   "outputs": [
    {
     "data": {
      "text/plain": [
       "'Turkish_Turkey.1254'"
      ]
     },
     "execution_count": 17,
     "metadata": {},
     "output_type": "execute_result"
    }
   ],
   "source": [
    "locale.setlocale(locale.LC_ALL,\"\")"
   ]
  },
  {
   "cell_type": "code",
   "execution_count": null,
   "metadata": {},
   "outputs": [],
   "source": [
    "print(\"Set locale dili değiştiriyor olduğun yere göre önemli\")"
   ]
  },
  {
   "cell_type": "code",
   "execution_count": 18,
   "metadata": {},
   "outputs": [
    {
     "name": "stdout",
     "output_type": "stream",
     "text": [
      "21\n"
     ]
    }
   ],
   "source": [
    "print(datetime.strftime(şu_an,\"%y\"))"
   ]
  },
  {
   "cell_type": "code",
   "execution_count": 19,
   "metadata": {},
   "outputs": [
    {
     "name": "stdout",
     "output_type": "stream",
     "text": [
      "Oca 21 Cum\n"
     ]
    }
   ],
   "source": [
    "print(datetime.strftime(şu_an,\"%b %y %a\"))"
   ]
  },
  {
   "cell_type": "code",
   "execution_count": 20,
   "metadata": {},
   "outputs": [
    {
     "name": "stdout",
     "output_type": "stream",
     "text": [
      "*******************************************************\n"
     ]
    }
   ],
   "source": [
    "print(\"\"\"*******************************************************\"\"\")"
   ]
  },
  {
   "cell_type": "code",
   "execution_count": 21,
   "metadata": {},
   "outputs": [
    {
     "name": "stdout",
     "output_type": "stream",
     "text": [
      "Şu anki zamanı saniye cinsinden bulmak için, datetime objemizi (şu_an objesi) timestamp() fonksiyonumuza gönderebiliriz. Aynı zamanda saniye cinsinden verilmiş bir zamanı da fromtimestamp fonksiyonuyla datetime objesine çevirebiliriz.\n"
     ]
    }
   ],
   "source": [
    "print(\"\"\"Şu anki zamanı saniye cinsinden bulmak için, datetime objemizi (şu_an objesi) timestamp() fonksiyonumuza gönderebiliriz. Aynı zamanda saniye cinsinden verilmiş bir zamanı da fromtimestamp fonksiyonuyla datetime objesine çevirebiliriz.\"\"\")"
   ]
  },
  {
   "cell_type": "code",
   "execution_count": 22,
   "metadata": {},
   "outputs": [
    {
     "name": "stdout",
     "output_type": "stream",
     "text": [
      "1610731788.870867\n"
     ]
    }
   ],
   "source": [
    "saniye=datetime.timestamp(şu_an)\n",
    "print(saniye)"
   ]
  },
  {
   "cell_type": "code",
   "execution_count": 23,
   "metadata": {},
   "outputs": [
    {
     "name": "stdout",
     "output_type": "stream",
     "text": [
      "2021-01-15 20:29:48.870867\n"
     ]
    }
   ],
   "source": [
    "şu_an2=datetime.fromtimestamp(saniye)\n",
    "print(şu_an2)"
   ]
  },
  {
   "cell_type": "code",
   "execution_count": 25,
   "metadata": {},
   "outputs": [
    {
     "name": "stdout",
     "output_type": "stream",
     "text": [
      "1970-01-01 03:00:00\n"
     ]
    }
   ],
   "source": [
    "şu_an=datetime.fromtimestamp(0)\n",
    "print(şu_an)"
   ]
  },
  {
   "cell_type": "code",
   "execution_count": 27,
   "metadata": {},
   "outputs": [
    {
     "name": "stdout",
     "output_type": "stream",
     "text": [
      "kendimiz bir datetime objesi oluşturmak istersek, yıl,ay,gün,saat,dakika,saniye ve mikrosaniyeleri sırasıyla girmeliyiz. Ancak sadece belli özellikleri de girerek bir tane datetime objesi oluşturabilirsiniz.\n"
     ]
    }
   ],
   "source": [
    "print(\"\"\"kendimiz bir datetime objesi oluşturmak istersek, yıl,ay,gün,saat,dakika,saniye ve mikrosaniyeleri sırasıyla girmeliyiz. Ancak sadece belli özellikleri de girerek bir tane datetime objesi oluşturabilirsiniz.\"\"\")"
   ]
  },
  {
   "cell_type": "code",
   "execution_count": 28,
   "metadata": {},
   "outputs": [
    {
     "name": "stdout",
     "output_type": "stream",
     "text": [
      "411 days, 21:10:10.808428\n"
     ]
    }
   ],
   "source": [
    "tarih=datetime(2019,12,1)\n",
    "şu_an=datetime.now()\n",
    "\n",
    "print(şu_an-tarih)"
   ]
  },
  {
   "cell_type": "code",
   "execution_count": 29,
   "metadata": {},
   "outputs": [
    {
     "name": "stdout",
     "output_type": "stream",
     "text": [
      "**********************************************************************************************\n"
     ]
    }
   ],
   "source": [
    "print(\"\"\"**********************************************************************************************\"\"\")"
   ]
  },
  {
   "cell_type": "code",
   "execution_count": 1,
   "metadata": {},
   "outputs": [
    {
     "data": {
      "text/plain": [
       "['DirEntry',\n",
       " 'F_OK',\n",
       " 'MutableMapping',\n",
       " 'O_APPEND',\n",
       " 'O_BINARY',\n",
       " 'O_CREAT',\n",
       " 'O_EXCL',\n",
       " 'O_NOINHERIT',\n",
       " 'O_RANDOM',\n",
       " 'O_RDONLY',\n",
       " 'O_RDWR',\n",
       " 'O_SEQUENTIAL',\n",
       " 'O_SHORT_LIVED',\n",
       " 'O_TEMPORARY',\n",
       " 'O_TEXT',\n",
       " 'O_TRUNC',\n",
       " 'O_WRONLY',\n",
       " 'P_DETACH',\n",
       " 'P_NOWAIT',\n",
       " 'P_NOWAITO',\n",
       " 'P_OVERLAY',\n",
       " 'P_WAIT',\n",
       " 'PathLike',\n",
       " 'R_OK',\n",
       " 'SEEK_CUR',\n",
       " 'SEEK_END',\n",
       " 'SEEK_SET',\n",
       " 'TMP_MAX',\n",
       " 'W_OK',\n",
       " 'X_OK',\n",
       " '_AddedDllDirectory',\n",
       " '_Environ',\n",
       " '__all__',\n",
       " '__builtins__',\n",
       " '__cached__',\n",
       " '__doc__',\n",
       " '__file__',\n",
       " '__loader__',\n",
       " '__name__',\n",
       " '__package__',\n",
       " '__spec__',\n",
       " '_check_methods',\n",
       " '_execvpe',\n",
       " '_exists',\n",
       " '_exit',\n",
       " '_fspath',\n",
       " '_get_exports_list',\n",
       " '_putenv',\n",
       " '_unsetenv',\n",
       " '_wrap_close',\n",
       " 'abc',\n",
       " 'abort',\n",
       " 'access',\n",
       " 'add_dll_directory',\n",
       " 'altsep',\n",
       " 'chdir',\n",
       " 'chmod',\n",
       " 'close',\n",
       " 'closerange',\n",
       " 'cpu_count',\n",
       " 'curdir',\n",
       " 'defpath',\n",
       " 'device_encoding',\n",
       " 'devnull',\n",
       " 'dup',\n",
       " 'dup2',\n",
       " 'environ',\n",
       " 'error',\n",
       " 'execl',\n",
       " 'execle',\n",
       " 'execlp',\n",
       " 'execlpe',\n",
       " 'execv',\n",
       " 'execve',\n",
       " 'execvp',\n",
       " 'execvpe',\n",
       " 'extsep',\n",
       " 'fdopen',\n",
       " 'fsdecode',\n",
       " 'fsencode',\n",
       " 'fspath',\n",
       " 'fstat',\n",
       " 'fsync',\n",
       " 'ftruncate',\n",
       " 'get_exec_path',\n",
       " 'get_handle_inheritable',\n",
       " 'get_inheritable',\n",
       " 'get_terminal_size',\n",
       " 'getcwd',\n",
       " 'getcwdb',\n",
       " 'getenv',\n",
       " 'getlogin',\n",
       " 'getpid',\n",
       " 'getppid',\n",
       " 'isatty',\n",
       " 'kill',\n",
       " 'linesep',\n",
       " 'link',\n",
       " 'listdir',\n",
       " 'lseek',\n",
       " 'lstat',\n",
       " 'makedirs',\n",
       " 'mkdir',\n",
       " 'name',\n",
       " 'open',\n",
       " 'pardir',\n",
       " 'path',\n",
       " 'pathsep',\n",
       " 'pipe',\n",
       " 'popen',\n",
       " 'putenv',\n",
       " 'read',\n",
       " 'readlink',\n",
       " 'remove',\n",
       " 'removedirs',\n",
       " 'rename',\n",
       " 'renames',\n",
       " 'replace',\n",
       " 'rmdir',\n",
       " 'scandir',\n",
       " 'sep',\n",
       " 'set_handle_inheritable',\n",
       " 'set_inheritable',\n",
       " 'spawnl',\n",
       " 'spawnle',\n",
       " 'spawnv',\n",
       " 'spawnve',\n",
       " 'st',\n",
       " 'startfile',\n",
       " 'stat',\n",
       " 'stat_result',\n",
       " 'statvfs_result',\n",
       " 'strerror',\n",
       " 'supports_bytes_environ',\n",
       " 'supports_dir_fd',\n",
       " 'supports_effective_ids',\n",
       " 'supports_fd',\n",
       " 'supports_follow_symlinks',\n",
       " 'symlink',\n",
       " 'sys',\n",
       " 'system',\n",
       " 'terminal_size',\n",
       " 'times',\n",
       " 'times_result',\n",
       " 'truncate',\n",
       " 'umask',\n",
       " 'uname_result',\n",
       " 'unlink',\n",
       " 'urandom',\n",
       " 'utime',\n",
       " 'waitpid',\n",
       " 'walk',\n",
       " 'write']"
      ]
     },
     "execution_count": 1,
     "metadata": {},
     "output_type": "execute_result"
    }
   ],
   "source": [
    "import os\n",
    "dir(os)"
   ]
  },
  {
   "cell_type": "code",
   "execution_count": 32,
   "metadata": {},
   "outputs": [
    {
     "name": "stdout",
     "output_type": "stream",
     "text": [
      "C:\\Users\\belgelerim\\Desktop\\Yeni klasör\n"
     ]
    }
   ],
   "source": [
    "print(os.getcwd())#Nerde bulunduğunu gösteriyor"
   ]
  },
  {
   "cell_type": "code",
   "execution_count": 37,
   "metadata": {},
   "outputs": [
    {
     "ename": "FileNotFoundError",
     "evalue": "[WinError 3] Sistem belirtilen yolu bulamıyor: 'C:/Users/user/Desktop'",
     "output_type": "error",
     "traceback": [
      "\u001b[1;31m---------------------------------------------------------------------------\u001b[0m",
      "\u001b[1;31mFileNotFoundError\u001b[0m                         Traceback (most recent call last)",
      "\u001b[1;32m<ipython-input-37-81dee95e61c1>\u001b[0m in \u001b[0;36m<module>\u001b[1;34m\u001b[0m\n\u001b[1;32m----> 1\u001b[1;33m \u001b[0mos\u001b[0m\u001b[1;33m.\u001b[0m\u001b[0mchdir\u001b[0m\u001b[1;33m(\u001b[0m\u001b[1;34m\"C:/Users/user/Desktop\"\u001b[0m\u001b[1;33m)\u001b[0m\u001b[1;31m#Normalde yerini değiştirebiliyor ama ben beceremedim\u001b[0m\u001b[1;33m\u001b[0m\u001b[1;33m\u001b[0m\u001b[0m\n\u001b[0m",
      "\u001b[1;31mFileNotFoundError\u001b[0m: [WinError 3] Sistem belirtilen yolu bulamıyor: 'C:/Users/user/Desktop'"
     ]
    }
   ],
   "source": [
    "os.chdir(\"C:/Users/user/Desktop\")#Normalde yerini değiştirebiliyor ama ben beceremedim"
   ]
  },
  {
   "cell_type": "code",
   "execution_count": 38,
   "metadata": {},
   "outputs": [
    {
     "name": "stdout",
     "output_type": "stream",
     "text": [
      "****************************************************\n"
     ]
    }
   ],
   "source": [
    "print(\"\"\"****************************************************\"\"\")"
   ]
  },
  {
   "cell_type": "code",
   "execution_count": 39,
   "metadata": {},
   "outputs": [
    {
     "name": "stdout",
     "output_type": "stream",
     "text": [
      ".ipynb_checkpoints\n",
      "bilgiler.txt\n",
      "Decorator Fonksiyonlar.ipynb\n",
      "Deneme.ipynb\n",
      "Dosya işlemleri.ipynb\n",
      "Döngüler ve Fonksyonlar.ipynb\n",
      "etiketler.doc\n",
      "Gömülü fonksyonlar.ipynb\n",
      "Hata yakalama.ipynb\n",
      "Iteratorlar ve Generatorlar.ipynb\n",
      "Karakter Dizileri İleri seviye.ipynb\n",
      "Kod yazma.ipynb\n",
      "Kümeler ve küme fonksyonları.ipynb\n",
      "Listeler ileri seviye.ipynb\n",
      "Modüller ileri seviye.ipynb\n",
      "Mödüller ve Nesne Tabanlı Programlama.ipynb\n",
      "Python\n",
      "Sqlite Veritabanı\n",
      "Sqlite.ipynb\n",
      "Veri tipleri ileri seviye.ipynb\n",
      "İç içe fonksiyonlar ve Parametreleri Fonksiyonları Dönmek ve Argüman Olarak Göndermek.ipynb\n"
     ]
    }
   ],
   "source": [
    "for i in os.listdir():#Bulunduğu yerdeki dosyaları listeliyor\n",
    "    print(i)"
   ]
  },
  {
   "cell_type": "code",
   "execution_count": 40,
   "metadata": {},
   "outputs": [
    {
     "name": "stdout",
     "output_type": "stream",
     "text": [
      "*************************************************************\n"
     ]
    }
   ],
   "source": [
    "print(\"\"\"*************************************************************\"\"\")"
   ]
  },
  {
   "cell_type": "code",
   "execution_count": 41,
   "metadata": {},
   "outputs": [
    {
     "name": "stdout",
     "output_type": "stream",
     "text": [
      "C:\\Users\\belgelerim\\Desktop\\Yeni klasör\n"
     ]
    }
   ],
   "source": [
    "print(os.getcwd())"
   ]
  },
  {
   "cell_type": "code",
   "execution_count": 42,
   "metadata": {},
   "outputs": [],
   "source": [
    "os.mkdir(\"Osla klasör oluşturma\")#klasör oluşturma"
   ]
  },
  {
   "cell_type": "code",
   "execution_count": 43,
   "metadata": {},
   "outputs": [
    {
     "ename": "FileNotFoundError",
     "evalue": "[WinError 3] Sistem belirtilen yolu bulamıyor: 'Deneme2/Deneme3'",
     "output_type": "error",
     "traceback": [
      "\u001b[1;31m---------------------------------------------------------------------------\u001b[0m",
      "\u001b[1;31mFileNotFoundError\u001b[0m                         Traceback (most recent call last)",
      "\u001b[1;32m<ipython-input-43-7fe406f71f9a>\u001b[0m in \u001b[0;36m<module>\u001b[1;34m\u001b[0m\n\u001b[1;32m----> 1\u001b[1;33m \u001b[0mos\u001b[0m\u001b[1;33m.\u001b[0m\u001b[0mmkdir\u001b[0m\u001b[1;33m(\u001b[0m\u001b[1;34m\"Deneme2/Deneme3\"\u001b[0m\u001b[1;33m)\u001b[0m\u001b[1;33m\u001b[0m\u001b[1;33m\u001b[0m\u001b[0m\n\u001b[0m",
      "\u001b[1;31mFileNotFoundError\u001b[0m: [WinError 3] Sistem belirtilen yolu bulamıyor: 'Deneme2/Deneme3'"
     ]
    }
   ],
   "source": [
    "os.mkdir(\"Deneme2/Deneme3\")"
   ]
  },
  {
   "cell_type": "code",
   "execution_count": 44,
   "metadata": {},
   "outputs": [],
   "source": [
    "os.makedirs(\"Deneme2/Deneme3\")#Bu fonksyonlar iç içe klasör oluşturuyorsun deneme 2 içine 3"
   ]
  },
  {
   "cell_type": "code",
   "execution_count": 45,
   "metadata": {},
   "outputs": [
    {
     "name": "stdout",
     "output_type": "stream",
     "text": [
      "***************************************************\n"
     ]
    }
   ],
   "source": [
    "print(\"\"\"***************************************************\"\"\")"
   ]
  },
  {
   "cell_type": "code",
   "execution_count": 46,
   "metadata": {},
   "outputs": [],
   "source": [
    "os.rmdir(\"Deneme2/Deneme3\")#Deneme 2 altındaki deneme 3 klasörünü sil"
   ]
  },
  {
   "cell_type": "code",
   "execution_count": 50,
   "metadata": {},
   "outputs": [],
   "source": [
    "os.removedirs(\"Deneme2/Deneme3\")#Tüm hepsini siliyor başındaki dahil"
   ]
  },
  {
   "cell_type": "code",
   "execution_count": 51,
   "metadata": {},
   "outputs": [
    {
     "name": "stdout",
     "output_type": "stream",
     "text": [
      "**************************************************************\n"
     ]
    }
   ],
   "source": [
    "print(\"\"\"**************************************************************\"\"\")"
   ]
  },
  {
   "cell_type": "code",
   "execution_count": 52,
   "metadata": {},
   "outputs": [],
   "source": [
    "os.rename(\"test.txt\",\"test2.txt\")#İsmini değiştirme fonksyonu"
   ]
  },
  {
   "cell_type": "code",
   "execution_count": 53,
   "metadata": {},
   "outputs": [
    {
     "name": "stdout",
     "output_type": "stream",
     "text": [
      "*********************************************************************\n"
     ]
    }
   ],
   "source": [
    "print(\"\"\"*********************************************************************\"\"\")"
   ]
  },
  {
   "cell_type": "code",
   "execution_count": 54,
   "metadata": {},
   "outputs": [
    {
     "name": "stdout",
     "output_type": "stream",
     "text": [
      "os.stat_result(st_mode=33206, st_ino=24488322973847201, st_dev=38340141, st_nlink=1, st_uid=0, st_gid=0, st_size=31, st_atime=1610735257, st_mtime=1610735188, st_ctime=1610735156)\n"
     ]
    }
   ],
   "source": [
    "print(os.stat(\"test2.txt\"))#Dosyanın bütün özelliklerine bakabiliyoruz"
   ]
  },
  {
   "cell_type": "code",
   "execution_count": 55,
   "metadata": {},
   "outputs": [
    {
     "name": "stdout",
     "output_type": "stream",
     "text": [
      "1610735188.252162\n"
     ]
    }
   ],
   "source": [
    "print(os.stat(\"test2.txt\").st_mtime)#İstediğim bilgiye ulaşmak için . ve ismi"
   ]
  },
  {
   "cell_type": "code",
   "execution_count": 56,
   "metadata": {},
   "outputs": [
    {
     "name": "stdout",
     "output_type": "stream",
     "text": [
      "2021-01-15 21:26:28.252162\n"
     ]
    }
   ],
   "source": [
    "from datetime import datetime\n",
    "print(datetime.fromtimestamp(os.stat(\"test2.txt\").st_mtime))"
   ]
  },
  {
   "cell_type": "code",
   "execution_count": 57,
   "metadata": {},
   "outputs": [
    {
     "name": "stdout",
     "output_type": "stream",
     "text": [
      "*****************************************************************\n"
     ]
    }
   ],
   "source": [
    "print(\"\"\"*****************************************************************\"\"\")"
   ]
  },
  {
   "cell_type": "code",
   "execution_count": 2,
   "metadata": {},
   "outputs": [
    {
     "name": "stdout",
     "output_type": "stream",
     "text": [
      "<generator object walk at 0x0000020D4BE75190>\n"
     ]
    }
   ],
   "source": [
    "print(os.walk(\"C:/Users/user/Desktop\"))#Masaüstündeki bütün klasörleri gez ve bana göster"
   ]
  },
  {
   "cell_type": "code",
   "execution_count": 3,
   "metadata": {},
   "outputs": [],
   "source": [
    "for i in os.walk(\"C:/Users/user/Desktop\"):#Pycharmda çalışıyor sanırım ama burda olmadı\n",
    "    print(i)"
   ]
  },
  {
   "cell_type": "code",
   "execution_count": 4,
   "metadata": {},
   "outputs": [],
   "source": [
    "for klasör_yolu,klasör_isimleri,dosya_isimleri in os.walk(\"C:/Users/user/Desktop\"):#Daha iyi bir gösterim\n",
    "    print(\"Klasör yolu:\",klasör_yolu)\n",
    "    print(\"Klasör isimleri:\",klasör_isimleri)\n",
    "    print(\"Dosya isimleri:\",dosya_isimleri)\n",
    "    print(\"**************************\")\n",
    "        \n",
    "     \n",
    "     \n",
    "            "
   ]
  },
  {
   "cell_type": "code",
   "execution_count": 5,
   "metadata": {},
   "outputs": [],
   "source": [
    "for klasör_yolu,klasör_isimleri,dosya_isimleri in os.walk(\"C:/Users/user/Desktop\"):#Sadece dosya isimlerini almak istersek\n",
    "    for i in dosya_isimler:\n",
    "        print(i)"
   ]
  },
  {
   "cell_type": "code",
   "execution_count": 6,
   "metadata": {},
   "outputs": [
    {
     "name": "stdout",
     "output_type": "stream",
     "text": [
      "*******************************************************************************\n"
     ]
    }
   ],
   "source": [
    "print(\"\"\"*******************************************************************************\"\"\")"
   ]
  },
  {
   "cell_type": "code",
   "execution_count": 7,
   "metadata": {},
   "outputs": [],
   "source": [
    "for klasör_yolu,klasör_isimleri,dosya_isimleri in os.walk(\"C:/Users/user/Desktop\"):\n",
    "    for i in dosya_isimler:\n",
    "        if(i.endswith(\".txt\")):\n",
    "            print(i)\n",
    "  #Sadece txtleri almak için          "
   ]
  },
  {
   "cell_type": "code",
   "execution_count": 1,
   "metadata": {},
   "outputs": [
    {
     "name": "stdout",
     "output_type": "stream",
     "text": [
      "************************************************************************************************\n"
     ]
    }
   ],
   "source": [
    "print(\"\"\"************************************************************************************************\"\"\")"
   ]
  },
  {
   "cell_type": "code",
   "execution_count": 2,
   "metadata": {},
   "outputs": [
    {
     "name": "stdout",
     "output_type": "stream",
     "text": [
      "Bu fonksiyon çalışan Python programımızı sonlandırır.\n"
     ]
    }
   ],
   "source": [
    "print(\"\"\"Bu fonksiyon çalışan Python programımızı sonlandırır.\"\"\")"
   ]
  },
  {
   "cell_type": "code",
   "execution_count": null,
   "metadata": {},
   "outputs": [],
   "source": [
    "import sys\n",
    "a = input(\"a:\")\n",
    "b = input(\"b:\")\n",
    "\n",
    "sys.exit()\n",
    "\n",
    "c = input(\"c:\")#Çalıştığı zaman c çalışmıyor çünkü üstünde sys.exit() var\n"
   ]
  },
  {
   "cell_type": "code",
   "execution_count": 1,
   "metadata": {},
   "outputs": [
    {
     "name": "stdout",
     "output_type": "stream",
     "text": [
      "stderr ve stdout\n",
      "Bilgisayarlar uygulamalarımız ve işlemlerimiz çalıştığı zaman çıktı vermek ve girdi almak için şu dosyaları kullanır.\n",
      "\n",
      "stdin : Bu standard dosya, işlemimizin (process ) kullanıcıdan input almasını sağlar.\n",
      "\n",
      "stdout : Bu standard dosya, işlemimizin (process ) çıktı vermesini sağlar.\n",
      "\n",
      "stderr : Bu standard dosya, işlemimizin hata mesajlarını çıktı olarak vermek için kullanılır.\n",
      "\n",
      "Biz print() fonksiyonumuzu kullandığımızda aslında standard olarak stdout kullanılmaktadır. Ancak biz istersek *stderr'e de bir şeyler yazabiliriz.\n"
     ]
    }
   ],
   "source": [
    "print(\"\"\"stderr ve stdout\n",
    "Bilgisayarlar uygulamalarımız ve işlemlerimiz çalıştığı zaman çıktı vermek ve girdi almak için şu dosyaları kullanır.\n",
    "\n",
    "stdin : Bu standard dosya, işlemimizin (process ) kullanıcıdan input almasını sağlar.\n",
    "\n",
    "stdout : Bu standard dosya, işlemimizin (process ) çıktı vermesini sağlar.\n",
    "\n",
    "stderr : Bu standard dosya, işlemimizin hata mesajlarını çıktı olarak vermek için kullanılır.\n",
    "\n",
    "Biz print() fonksiyonumuzu kullandığımızda aslında standard olarak stdout kullanılmaktadır. Ancak biz istersek *stderr'e de bir şeyler yazabiliriz.\"\"\")"
   ]
  },
  {
   "cell_type": "code",
   "execution_count": null,
   "metadata": {},
   "outputs": [],
   "source": [
    "import sys\n",
    "\n",
    "sys.stderr.write(\"Burası bir hata mesajı\\n\")\n",
    "\n",
    "sys.stderr.flush() # Buffer'ı hemen yaz. \n",
    "\n",
    "sys.stdout.write(\"Burası normal çıktımız\\n\")"
   ]
  },
  {
   "cell_type": "code",
   "execution_count": 2,
   "metadata": {},
   "outputs": [
    {
     "name": "stdout",
     "output_type": "stream",
     "text": [
      "***************************************************************************\n"
     ]
    }
   ],
   "source": [
    "print(\"\"\"***************************************************************************\"\"\")"
   ]
  },
  {
   "cell_type": "code",
   "execution_count": null,
   "metadata": {},
   "outputs": [],
   "source": [
    "print(sys.argv)#Bilgisayardaki yerini gösteriyor\n",
    "#Pycharmda terminali açmak için alt f12 ve sonra cd komutu verip sırayla yolunu belirtiyorsun\n",
    "#Ordanda python dosyanin ismi ve içine yollicağın değerler şeklinde giriyorsun\n",
    "#cd \"Dosya ismi\"\n",
    "#dir\n",
    "#python ismi değer\n",
    "#Liste şeklinde gösteriyor ve her zaman 0. elemanı dosyaynın ismi oluyor\n"
   ]
  },
  {
   "cell_type": "code",
   "execution_count": 1,
   "metadata": {},
   "outputs": [
    {
     "name": "stdout",
     "output_type": "stream",
     "text": [
      "**********************************************************\n"
     ]
    }
   ],
   "source": [
    "print(\"\"\"**********************************************************\"\"\")"
   ]
  },
  {
   "cell_type": "code",
   "execution_count": 2,
   "metadata": {},
   "outputs": [
    {
     "name": "stderr",
     "output_type": "stream",
     "text": [
      "Burası bir hata mesajı\n"
     ]
    },
    {
     "name": "stdout",
     "output_type": "stream",
     "text": [
      "Burası normal çıktımız\n",
      "['C:\\\\Anaconda3\\\\lib\\\\site-packages\\\\ipykernel_launcher.py', '-f', 'C:\\\\Users\\\\belgelerim\\\\AppData\\\\Roaming\\\\jupyter\\\\runtime\\\\kernel-0f428cd1-2c88-40df-9fbe-97001b90e181.json']\n"
     ]
    }
   ],
   "source": [
    "import sys\n",
    "\n",
    "sys.stderr.write(\"Burası bir hata mesajı\\n\")\n",
    "\n",
    "sys.stderr.flush()\n",
    "\n",
    "sys.stdout.write(\"Burası normal çıktımız\\n\")\n",
    "print(sys.argv)"
   ]
  },
  {
   "cell_type": "code",
   "execution_count": 3,
   "metadata": {},
   "outputs": [
    {
     "name": "stdout",
     "output_type": "stream",
     "text": [
      "*************************************************************************************************************\n"
     ]
    }
   ],
   "source": [
    "print(\"\"\"*************************************************************************************************************\"\"\")"
   ]
  },
  {
   "cell_type": "code",
   "execution_count": 4,
   "metadata": {},
   "outputs": [
    {
     "name": "stdout",
     "output_type": "stream",
     "text": [
      "Bu derste requests modülü ve json'ı beraber kullanarak bir tane döviz uygulaması yazmaya çalışacağız. Bunun için fixer.io sitesinden bilgilerimizi json objesi olarak alıp bu bilgilerle Dolar'ı Türk Lirasına çevirme gibi işlemlerimizi gerçekleştireceğiz.\n",
      "\n",
      "Şimdi ilk olarak json objelerine bakalım.\n",
      "\n",
      "json objeleri Pythondaki sözlük objelerine oldukça benzer ve kullanılmaları aynı sözlükler gibidir. İsterseniz json objesinin yapısına bakalım.\n"
     ]
    }
   ],
   "source": [
    "print(\"\"\"Bu derste requests modülü ve json'ı beraber kullanarak bir tane döviz uygulaması yazmaya çalışacağız. Bunun için fixer.io sitesinden bilgilerimizi json objesi olarak alıp bu bilgilerle Dolar'ı Türk Lirasına çevirme gibi işlemlerimizi gerçekleştireceğiz.\n",
    "\n",
    "Şimdi ilk olarak json objelerine bakalım.\n",
    "\n",
    "json objeleri Pythondaki sözlük objelerine oldukça benzer ve kullanılmaları aynı sözlükler gibidir. İsterseniz json objesinin yapısına bakalım.\"\"\")"
   ]
  },
  {
   "cell_type": "code",
   "execution_count": null,
   "metadata": {},
   "outputs": [],
   "source": [
    " {\n",
    "\n",
    "            \"İsim\": \"Mustafa Murat\",\n",
    "\n",
    "            \"Soyisim\": \"Coşkun\",\n",
    "\n",
    "            \"Numara\" : 12345,\n",
    "\n",
    "\n",
    "            \"Özellikler\": {\n",
    "                            \"hobi\": \"Gitar Çalmak\",\n",
    "\n",
    "                            \"iş\" : \"Programlama Eğitmeni\"\n",
    "\n",
    "                          }\n",
    "\n",
    "\n",
    "            }"
   ]
  },
  {
   "cell_type": "code",
   "execution_count": 1,
   "metadata": {},
   "outputs": [
    {
     "name": "stdout",
     "output_type": "stream",
     "text": [
      "***************************************************************************************\n"
     ]
    }
   ],
   "source": [
    "print(\"\"\"***************************************************************************************\"\"\")"
   ]
  },
  {
   "cell_type": "code",
   "execution_count": 2,
   "metadata": {},
   "outputs": [
    {
     "name": "stdout",
     "output_type": "stream",
     "text": [
      "Bu derste smtplib modülü ile beraber mail atmaya öğrenmeye çalışacağız. Mail atmak için bir tane SMTP serverına ihtiyacımız olacağı için biz bu derste GMAİL SMTP Server'ına bağlanarak mail atma işlemimizi gerçekleştireceğiz.\n",
      "\n",
      "Ancak öncelikle gmail üzerinden güvensiz uygulamalara izin vermemiz gerekiyor. İlk olarak şu linke gidiyoruz;\n",
      "\n",
      "https://myaccount.google.com/lesssecureapps\n",
      "\n",
      "Artık mail atma kodumuzu yazabiliriz.\n"
     ]
    }
   ],
   "source": [
    "print(\"\"\"Bu derste smtplib modülü ile beraber mail atmaya öğrenmeye çalışacağız. Mail atmak için bir tane SMTP serverına ihtiyacımız olacağı için biz bu derste GMAİL SMTP Server'ına bağlanarak mail atma işlemimizi gerçekleştireceğiz.\n",
    "\n",
    "Ancak öncelikle gmail üzerinden güvensiz uygulamalara izin vermemiz gerekiyor. İlk olarak şu linke gidiyoruz;\n",
    "\n",
    "https://myaccount.google.com/lesssecureapps\n",
    "\n",
    "Artık mail atma kodumuzu yazabiliriz.\"\"\")"
   ]
  },
  {
   "cell_type": "code",
   "execution_count": null,
   "metadata": {},
   "outputs": [],
   "source": [
    "import smtplib\n",
    "from email.mime.multipart import MIMEMultipart\n",
    "from email.mime.text import MIMEText\n",
    "import sys\n",
    "\"\"\"\n",
    "SMTP Modülü ile mail gönderme\n",
    "\n",
    "İlk olarak daha az güvenli uygulamalar için öncelikle aşağıdaki linke gidiyoruz ve güvenliği\n",
    "kaldırıyoruz.\n",
    "\n",
    "https://myaccount.google.com/lesssecureapps\n",
    "\n",
    "\"\"\"\n",
    "\n",
    "mesaj = MIMEMultipart()  # Mail yapımızı oluşturuyoruz.\n",
    "\n",
    "mesaj[\"From\"] =  \"coskun.m.murat@gmail.com\" # Kimden Göndereceğimiz\n",
    "\n",
    "mesaj[\"To\"] = \"coskun.m.murat@gmail.com\" # Kime Göndereceğimiz\n",
    "\n",
    "mesaj[\"Subject\"] = \"Smtp Mail Gönderme\"  # Mailimizin Konusu\n",
    "\n",
    "\n",
    "# Mailimizin İçeriği\n",
    "yazi = \"\"\"\n",
    "\n",
    "Merhaba, Python ile mail gönderiyorum.    \n",
    "\n",
    "Mustafa Murat Coşkun\n",
    "\n",
    "\n",
    "\"\"\"  \n",
    "\n",
    "\n",
    "mesaj_govdesi =  MIMEText(yazi,\"plain\")  # Mailimizin gövdesini bu sınıftan oluşturuyoruz.\n",
    "\n",
    "mesaj.attach(mesaj_govdesi) # Mailimizin gövdesini mail yapımıza ekliyoruz.\n",
    "\n",
    "\n",
    "\n",
    "try:\n",
    "    mail =  smtplib.SMTP(\"smtp.gmail.com\",587)  # SMTP objemizi oluşturuyoruz ve gmail smtp server'ına bağlanıyoruz.\n",
    "\n",
    "    mail.ehlo() # SMTP serverına kendimizi tanıtıyoruz.\n",
    " \n",
    "    mail.starttls() # Adresimizin ve Parolamızın şifrelenmesi için gerekli\n",
    "\n",
    "    mail.login(\"gmail_adresi\",\"gmail_parola\") # SMTP server'ına giriş yapıyoruz. Kendi mail adresimizi ve parolamızı yapıyoruz.\n",
    "\n",
    "    mail.sendmail(mesaj[\"From\"],mesaj[\"To\"],mesaj.as_string())  # Mailimizi gönderiyoruz.\n",
    "    print(\"Mail başarıyla gönderildi....\")\n",
    "    mail.close()  # Smtp serverımızın bağlantısını koparıyoz.\n",
    "\n",
    "except:\n",
    "    sys.stderr.write(\"Mail göndermesi başarısız oldu...\") # Herhangi bir bağlanma sorunu veya mail gönderme sorunu olursa\n",
    "    sys.stderr.flush()"
   ]
  },
  {
   "cell_type": "code",
   "execution_count": 1,
   "metadata": {},
   "outputs": [
    {
     "name": "stdout",
     "output_type": "stream",
     "text": [
      "*********************************************************************************\n"
     ]
    }
   ],
   "source": [
    "print(\"\"\"*********************************************************************************\"\"\")\n"
   ]
  },
  {
   "cell_type": "code",
   "execution_count": null,
   "metadata": {},
   "outputs": [],
   "source": [
    "print(\"https://pillow.readthedocs.io/en/4.2.x/handbook/tutorial.html\")"
   ]
  },
  {
   "cell_type": "code",
   "execution_count": null,
   "metadata": {},
   "outputs": [],
   "source": [
    "from PIL import Image\n",
    "\n",
    "image=Image.open(\"kuş.jpg\")\n",
    "\n",
    "\n",
    "image.show()#Resmi gösteriyor\n"
   ]
  },
  {
   "cell_type": "code",
   "execution_count": null,
   "metadata": {},
   "outputs": [],
   "source": [
    "from PIL import Image,ImageFilter\n",
    "\n",
    "image=Image.open(\"kuş.jpg\")\n",
    "\n",
    "image.save(\"kuş2.jpg\")# Verdiğin isimle kayıt ediyor\n",
    "\n",
    "image.rotate(180).save(\"kus3.jpg\")#Döndürüyor\n",
    "\n",
    "image.rotate(90).save(\"kus4.jpg\")\n",
    "image.convert(mode=\"L\")#Siyah Beyaz \n",
    "degistir=(960,600)\n",
    "\n",
    "image.thumbnail(degistir)#Daha Küçülte biliyoruz\n",
    "image.filter(ImageFilter.GaussianBlur(5)).save(\"Kuş7.jpg\")#Bulanıklaştırıyor\n",
    "ırpılacak_alan=(304,3,1034,598)\n",
    "image2=Image.open(\"atatürk.jpg\")\n",
    "image2.crop(kırpılacak_alan).save(\"Atatürk2.jpg\")#corp kırpma"
   ]
  },
  {
   "cell_type": "code",
   "execution_count": null,
   "metadata": {},
   "outputs": [],
   "source": []
  },
  {
   "cell_type": "code",
   "execution_count": null,
   "metadata": {},
   "outputs": [],
   "source": []
  },
  {
   "cell_type": "code",
   "execution_count": null,
   "metadata": {},
   "outputs": [],
   "source": []
  },
  {
   "cell_type": "code",
   "execution_count": null,
   "metadata": {},
   "outputs": [],
   "source": []
  },
  {
   "cell_type": "code",
   "execution_count": null,
   "metadata": {},
   "outputs": [],
   "source": []
  },
  {
   "cell_type": "code",
   "execution_count": null,
   "metadata": {},
   "outputs": [],
   "source": []
  },
  {
   "cell_type": "code",
   "execution_count": null,
   "metadata": {},
   "outputs": [],
   "source": []
  }
 ],
 "metadata": {
  "kernelspec": {
   "display_name": "Python 3",
   "language": "python",
   "name": "python3"
  },
  "language_info": {
   "codemirror_mode": {
    "name": "ipython",
    "version": 3
   },
   "file_extension": ".py",
   "mimetype": "text/x-python",
   "name": "python",
   "nbconvert_exporter": "python",
   "pygments_lexer": "ipython3",
   "version": "3.8.3"
  }
 },
 "nbformat": 4,
 "nbformat_minor": 4
}
