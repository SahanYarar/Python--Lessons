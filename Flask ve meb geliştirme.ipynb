{
 "cells": [
  {
   "cell_type": "code",
   "execution_count": null,
   "metadata": {},
   "outputs": [],
   "source": [
    "from flask import Flask#İmport etmek için\n",
    "    \n",
    "app = Flask(__name__)\n",
    "\n",
    "if __name__ ==\"__main__\":\n",
    "    app.run(debug=True)"
   ]
  },
  {
   "cell_type": "code",
   "execution_count": 1,
   "metadata": {},
   "outputs": [
    {
     "name": "stdout",
     "output_type": "stream",
     "text": [
      "Geliştiriciler diğer dosyada kullandığı programı kullanmak için geliştirmiş buna name demiş ve eğer name maine eşit olursa o yazdığı diğer programın sadece fonsyonlarını kullansın demşişler ve böylece bunu kodlamışlar cmdden açarsan sadece name == main oluyor\n"
     ]
    }
   ],
   "source": [
    "print(\"Geliştiriciler diğer dosyada kullandığı programı kullanmak için geliştirmiş buna name demiş ve eğer name maine eşit olursa o yazdığı diğer programın sadece fonsyonlarını kullansın demşişler ve böylece bunu kodlamışlar cmdden açarsan sadece name == main oluyor\")"
   ]
  },
  {
   "cell_type": "code",
   "execution_count": null,
   "metadata": {},
   "outputs": [],
   "source": [
    "print(\"Xampp Controldan açılıyor\")"
   ]
  },
  {
   "cell_type": "code",
   "execution_count": null,
   "metadata": {},
   "outputs": [],
   "source": [
    "from flask import Flask\n",
    "\n",
    "\n",
    "app = Flask(__name__)\n",
    "@app.route(\"/\")\n",
    "def index():\n",
    "    return \"Ana Sayfa\"\n",
    "\n",
    "@app.route(\"/about\")\n",
    "def about():\n",
    "    return\"Hakkımda\"\n",
    "@app.route(\"/about/Sahan\")\n",
    "def Sahan():\n",
    "   return \"Sahan Hakkında\"\n",
    "\n",
    "if __name__ ==\"__main__\":\n",
    "    app.run(debug=True)"
   ]
  },
  {
   "cell_type": "code",
   "execution_count": null,
   "metadata": {},
   "outputs": [],
   "source": [
    "http://localhost:5000/about/Sahan#Böyle çalıştırılıyor"
   ]
  },
  {
   "cell_type": "code",
   "execution_count": 1,
   "metadata": {},
   "outputs": [
    {
     "name": "stdout",
     "output_type": "stream",
     "text": [
      "************************************\n"
     ]
    }
   ],
   "source": [
    "print(\"************************************\")"
   ]
  },
  {
   "cell_type": "code",
   "execution_count": null,
   "metadata": {},
   "outputs": [],
   "source": [
    "print(\"HTML template kurma ! tab yaparsan direk sana yazıyor uğraşmıyorsun\")\n"
   ]
  },
  {
   "cell_type": "code",
   "execution_count": null,
   "metadata": {},
   "outputs": [],
   "source": [
    "print(\"Python kodu\")"
   ]
  },
  {
   "cell_type": "code",
   "execution_count": null,
   "metadata": {},
   "outputs": [],
   "source": [
    "from flask import Flask,render_template\n",
    "\n",
    "\n",
    "app = Flask(__name__)\n",
    "@app.route(\"/\")\n",
    "def index():\n",
    "    sayı=10\n",
    "    sayı2=20\n",
    "\n",
    "    return render_template(\"index.html\",number=sayı,number2=sayı2)\n",
    "#render_template template dosyalarına bakıyor onu seçiyor ve yolluyor \n",
    "\n",
    "\n",
    "\n",
    "if __name__ ==\"__main__\":\n",
    "    app.run(debug=True)"
   ]
  },
  {
   "cell_type": "code",
   "execution_count": null,
   "metadata": {},
   "outputs": [],
   "source": [
    "print(\"Html kodu\")"
   ]
  },
  {
   "cell_type": "code",
   "execution_count": null,
   "metadata": {},
   "outputs": [],
   "source": [
    "<!DOCTYPE html>\n",
    "<html lang=\"en\">\n",
    "<head>\n",
    "    <meta charset=\"UTF-8\">\n",
    "    <meta name=\"viewport\" content=\"width=device-width, initial-scale=1.0\">\n",
    "    <title>Anasayfa</title>\n",
    "</head>\n",
    "<body>\n",
    "    <h3>Anasayfa<h3>\n",
    "    <p>Burası anasayfadır<p>\n",
    "\n",
    "    <h5>Sayı</h5>\n",
    "    <p>{{number}}</p>#Python kodu  iki tane süslü parantez içinde çalışır\n",
    "    <p>{{number2}}</p>\n",
    "    \n",
    "</body>\n",
    "</html>"
   ]
  },
  {
   "cell_type": "code",
   "execution_count": null,
   "metadata": {},
   "outputs": [],
   "source": [
    "print(\"************************************************\")"
   ]
  },
  {
   "cell_type": "code",
   "execution_count": null,
   "metadata": {},
   "outputs": [],
   "source": [
    "def index():\n",
    "    article=dict()\n",
    "    article[\"title\"]=\"Deneme\"\n",
    "    article[\"body\"]=\"Deneme 123\"\n",
    "    article[\"author\"]=\"Nihat Şahan\"\n",
    "   \n",
    "\n",
    "    return render_template(\"index.html\",article=article)\n",
    "print(\"***************************************************************\")#Birinci yol\n",
    "<body>\n",
    "    <h3>Anasayfa<h3>\n",
    "    <p>Burası anasayfadır<p>\n",
    "\n",
    "    <p>{{article[\"title\"]}}</p>\n",
    "    <p>{{article[\"body\"]}}</p>\n",
    "    <p>{{article[\"author\"]}}</p>\n",
    "    \n",
    "    \n",
    "</body>\n",
    "print(\"*********************************************************\")#İkinci\n",
    "<body>\n",
    "    <h3>Anasayfa<h3>\n",
    "    <p>Burası anasayfadır<p>\n",
    "\n",
    "    <p>{{article.title}}</p>\n",
    "    <p>{{article.body}}</p>\n",
    "    <p>{{article.author}}</p>\n",
    "    \n",
    "    \n",
    "</body>"
   ]
  },
  {
   "cell_type": "code",
   "execution_count": 2,
   "metadata": {},
   "outputs": [
    {
     "name": "stdout",
     "output_type": "stream",
     "text": [
      "******************************************\n"
     ]
    }
   ],
   "source": [
    "print(\"******************************************\")"
   ]
  },
  {
   "cell_type": "code",
   "execution_count": null,
   "metadata": {},
   "outputs": [],
   "source": [
    " <title>Layout</title>#layout.html\n",
    "</head>\n",
    "<body>\n",
    "    <h3>Layout</h3>\n",
    "\n",
    "{% block  sahan %}\n",
    "<p>Burası layouttur...</p>\n",
    "{% endblock  %}\n",
    "</body>\n",
    "</html>\n",
    "print(\"*******************************\")\n",
    "% extends \"layout.html\" %}#Bunu index.htmlye yazdım layoutun tüm özelliğin al\n",
    "\n",
    "\n",
    "{% block sahan %}#Layouttaki bu özelliği değiştirmek istiyor demek\n",
    "<p>Burası indextir.....</p>\n",
    "\n",
    "{% endblock %}\n"
   ]
  },
  {
   "cell_type": "code",
   "execution_count": null,
   "metadata": {},
   "outputs": [],
   "source": [
    "print(\"*********************************************************\")"
   ]
  },
  {
   "cell_type": "code",
   "execution_count": 3,
   "metadata": {},
   "outputs": [
    {
     "name": "stdout",
     "output_type": "stream",
     "text": [
      "Bootstrap 4 CDN linkiden giriyorsun cssi metanın altına scripti bodynın altına kopyalıyorsun\n"
     ]
    }
   ],
   "source": [
    "print(\"Bootstrap 4 CDN linkiden giriyorsun cssi metanın altına scripti bodynın altına kopyalıyorsun\")"
   ]
  },
  {
   "cell_type": "code",
   "execution_count": null,
   "metadata": {},
   "outputs": [],
   "source": [
    "<!DOCTYPE html>#Layout.html dosyası bu\n",
    "<html lang=\"en\">\n",
    "<head>\n",
    "    <meta charset=\"UTF-8\">\n",
    "    <meta name=\"viewport\" content=\"width=device-width, initial-scale=1.0\">\n",
    "    <link rel=\"stylesheet\" href=\"https://maxcdn.bootstrapcdn.com/bootstrap/4.0.0/css/bootstrap.min.css\" integrity=\"sha384-Gn5384xqQ1aoWXA+058RXPxPg6fy4IWvTNh0E263XmFcJlSAwiGgFAW/dAiS6JXm\" crossorigin=\"anonymous\">\n",
    "    <title>YB Blog</title>\n",
    "</head>\n",
    "<body>\n",
    "\n",
    "    {% include \"includes/navbar.html\" %}\n",
    "    <div class = \"container\">\n",
    "\n",
    "    </div>\n",
    "    {% block body %}\n",
    "        \n",
    "    {% endblock body %}\n",
    "    \n",
    "<script src=\"https://code.jquery.com/jquery-3.2.1.slim.min.js\" integrity=\"sha384-KJ3o2DKtIkvYIK3UENzmM7KCkRr/rE9/Qpg6aAZGJwFDMVNA/GpGFF93hXpG5KkN\" crossorigin=\"anonymous\"></script>\n",
    "<script src=\"https://cdnjs.cloudflare.com/ajax/libs/popper.js/1.12.9/umd/popper.min.js\" integrity=\"sha384-ApNbgh9B+Y1QKtv3Rn7W3mgPxhU9K/ScQsAP7hUibX39j7fakFPskvXusvfa0b4Q\" crossorigin=\"anonymous\"></script>\n",
    "<script src=\"https://maxcdn.bootstrapcdn.com/bootstrap/4.0.0/js/bootstrap.min.js\" integrity=\"sha384-JZR6Spejh4U02d8jOt6vLEHfe/JQGiRRSQQxSfFWpi1MquVdAyjUar5+76PVCmYl\" crossorigin=\"anonymous\"></script>    \n",
    "</body>\n",
    "</html>\n",
    "print(\"********************************************\")\n",
    "<nav class=\"navbar navbar-expand-md navbar-dark bg-dark mb-4\">#Orijinal navbar\n",
    "      <a class=\"navbar-brand\" href=\"#\">Top navbar</a>\n",
    "      <button class=\"navbar-toggler\" type=\"button\" data-toggle=\"collapse\" data-target=\"#navbarCollapse\" aria-controls=\"navbarCollapse\" aria-expanded=\"false\" aria-label=\"Toggle navigation\">\n",
    "        <span class=\"navbar-toggler-icon\"></span>\n",
    "      </button>\n",
    "      <div class=\"collapse navbar-collapse\" id=\"navbarCollapse\">\n",
    "        <ul class=\"navbar-nav mr-auto\">\n",
    "          <li class=\"nav-item active\">\n",
    "            <a class=\"nav-link\" href=\"#\">Home <span class=\"sr-only\">(current)</span></a>\n",
    "          </li>\n",
    "          <li class=\"nav-item\">\n",
    "            <a class=\"nav-link\" href=\"#\">Link</a>\n",
    "          </li>\n",
    "          <li class=\"nav-item\">\n",
    "            <a class=\"nav-link disabled\" href=\"#\">Disabled</a>\n",
    "          </li>\n",
    "        </ul>\n",
    "        <form class=\"form-inline mt-2 mt-md-0\">\n",
    "          <input class=\"form-control mr-sm-2\" type=\"text\" placeholder=\"Search\" aria-label=\"Search\">\n",
    "          <button class=\"btn btn-outline-success my-2 my-sm-0\" type=\"submit\">Search</button>\n",
    "        </form>\n",
    "      </div>\n",
    "    </nav>\n",
    "print(\"*********************************************************\")\n",
    "{% extends \"layout.html\" %}0#Index sayfası\n",
    "\n",
    "\n",
    "{% block body %}\n",
    "<h3>Anasayfa</h3>\n",
    "{% endblock body %}\n",
    "\n"
   ]
  },
  {
   "cell_type": "code",
   "execution_count": 1,
   "metadata": {},
   "outputs": [
    {
     "name": "stdout",
     "output_type": "stream",
     "text": [
      "**********************************************************\n"
     ]
    }
   ],
   "source": [
    "print(\"**********************************************************\")"
   ]
  },
  {
   "cell_type": "code",
   "execution_count": null,
   "metadata": {},
   "outputs": [],
   "source": [
    "<nav class=\"navbar navbar-expand-md navbar-dark bg-dark mb-4\">\n",
    "#Özelleştirilmiş navbar\n",
    "      <a class=\"navbar-brand\" href=\"/\">YB Blog</a>\n",
    "      <button class=\"navbar-toggler\" type=\"button\" data-toggle=\"collapse\" data-target=\"#navbarCollapse\" aria-controls=\"navbarCollapse\" aria-expanded=\"false\" aria-label=\"Toggle navigation\">\n",
    "        <span class=\"navbar-toggler-icon\"></span>\n",
    "      </button>\n",
    "      <div class=\"collapse navbar-collapse\" id=\"navbarCollapse\">\n",
    "        <ul class=\"navbar-nav mr-auto\">#Sağa yazıyor\n",
    "          <li class=\"nav-item active\">\n",
    "            <a class=\"nav-link\" href=\"/about\">Hakkımızda</a> \n",
    "          </li>\n",
    "          <li class=\"nav-item active\">\n",
    "            <a class=\"nav-link\" href=\"/article\">Makaleler</a> \n",
    "          </li>\n",
    "        </ul>\n",
    "        <ul class=\"navbar-nav ml-auto\">#Sola yazar\n",
    "          <li class=\"nav-item active\">\n",
    "            <a class=\"nav-link\" href=\"/register\">Kayıt Ol</a> \n",
    "          </li>\n",
    "          <li class=\"nav-item active\">\n",
    "            <a class=\"nav-link\" href=\"/login\">Giriş</a> \n",
    "          </li>\n",
    "        </ul>\n",
    "    \n",
    "      </div>\n",
    "    </nav>\n"
   ]
  },
  {
   "cell_type": "code",
   "execution_count": null,
   "metadata": {},
   "outputs": [],
   "source": [
    "print(\"*******************************************\")"
   ]
  },
  {
   "cell_type": "code",
   "execution_count": null,
   "metadata": {},
   "outputs": [],
   "source": [
    "def index():#Python kodu\n",
    "    return render_template(\"index.html\",answer =\"evet\")\n",
    "print(\"**************************************************\")\n",
    "{% extends \"layout.html\" %}\n",
    "\n",
    "{% block body %}\n",
    "<div class=\"jumbotron text-center\">#Jumbotron güzel yazıyor text center ortalıyor\n",
    "    <h3>Yazılım Bilimi Bloğuna Hoşgeldiniz</h3>\n",
    "    <p>Bu blogta geliştiricler olarak yazılarınızı paylaşıp insanlara yardım edebilirsiniz </p>\n",
    "</div>\n",
    "{% if  answer ==\"evet\" %}#Normal kuşul olayı\n",
    "<p>Cevabımız evetmiş.....</p>\n",
    "{% elif  answer ==\"bilmem\" %}\n",
    "<p>Bilinmeyen</p>\n",
    "{% else %}\n",
    "<p>Cevabımız evet değilmiş....</p>\n",
    "{% endif %}\n",
    "{% endblock body %}\n",
    "\n"
   ]
  },
  {
   "cell_type": "code",
   "execution_count": null,
   "metadata": {},
   "outputs": [],
   "source": [
    "print(\"*******************************************************\")\n",
    "def index():#Python\n",
    "    articles=[\n",
    "        {\"id\":1,\"title\":\"Deneme1\",\"content\":\"Deneme1 icerigi\"},\n",
    "        {\"id\":2,\"title\":\"Deneme2\",\"content\":\"Deneme2 icerigi\"},\n",
    "        {\"id\":3,\"title\":\"Deneme3\",\"content\":\"Deneme3 icerigi\"}\n",
    "    ]\n",
    "    \n",
    "   \n",
    "    return render_template(\"index.html\",articles=articles)\n",
    "print(\"***********************************************\")\n",
    "<ul>#İndex html\n",
    "    {% for article in articles  %}\n",
    "        <li>Article Id:{{article.id}}-Tıtle:{{article.title}}-Content:{{article.content}}</li>\n",
    "    {% endfor %}\n",
    "\n",
    "</ul>"
   ]
  },
  {
   "cell_type": "code",
   "execution_count": 1,
   "metadata": {},
   "outputs": [
    {
     "name": "stdout",
     "output_type": "stream",
     "text": [
      "********************************************************************************\n"
     ]
    }
   ],
   "source": [
    "print(\"********************************************************************************\")"
   ]
  },
  {
   "cell_type": "code",
   "execution_count": null,
   "metadata": {},
   "outputs": [],
   "source": [
    "#Bura biraz karışık ASDasd\n"
   ]
  },
  {
   "cell_type": "code",
   "execution_count": null,
   "metadata": {},
   "outputs": [],
   "source": [
    "class RegisterForm(Form):\n",
    "    name = StringField(\"İsim Soyisim:\",validators=[validators.Length(min=4,max=25)])\n",
    "    username = StringField(\"Kullanıcı Adı:\",validators=[validators.Length(min=5,max=25)])#Bu validatorsler güvenlik için\n",
    "    email = StringField(\"Email Adresi:\",validators=[validators.Email(message=\"Lütfen geçerli bir e-mail adersi giriniz.........\")])\n",
    "    password = PasswordField(\"Parola:\",validators=[\n",
    "        validators.DataRequired(message=\"Lütfen bir paralo belirleyin\"),\n",
    "        validators.EqualTo(fieldname=\"confirm\",message=\"Parolanız Uyuşmuyor\")      \n",
    "    ])\n",
    "    confirm=PasswordField(\"Parola Doğrula\")\n",
    "app = Flask(__name__)\n",
    "app.secret_key=\"ybblog\"\n",
    "app.config[\"MYSQL_HOST\"]=\"localhost\"\n",
    "app.config[\"MYSQL_USER\"]=\"root\"\n",
    "app.config[\"MYSQL_PASSWORD\"]=\"\"\n",
    "app.config[\"MYSQL_DB\"]=\"ybblog\"\n",
    "app.config[\"MYSQL_CURSORCLASS\"]=\"DictCursor\"\n",
    "mysql=MySQL(app)\n",
    "print(\"Burda kayıt olma formunu yaptık *temelini attık diyelim\")\n",
    "print(\"*************************\")\n",
    "app.route(\"/register\",methods = [\"GET\",\"POST\"])\n",
    "def register():\n",
    "    \n",
    "    form =RegisterForm(request.form)\n",
    "\n",
    "    if request.method ==\"POST\" and form.validate():#Form validate doğruysa demek sıkıntı yoksa\n",
    "        name=form.name.data\n",
    "        username=form.username.data\n",
    "        email=form.email.data\n",
    "        password=sha256_crypt.encrypt(form.password.data)#Şifresini şifrele göremeyelim anlamına geliyor\n",
    "\n",
    "        cursor=mysql.connection.cursor()\n",
    "        sorgu=\"Insert into users(name,email,username,password) VALUES(%s,%s,%s,%s)\"\n",
    "\n",
    "        cursor.execute(sorgu,(name,email,username,password))#Burda formatın farklı tarzını yapıyor\n",
    "        mysql.connection.commit()#Mysqlyle bağlantı kuruyor ki datalar kayıt olsun\n",
    "        cursor.close()\n",
    "        flash(\"Başarıyla kayıt oldunuz....\",\"success\")#Successe atıyor\n",
    "\n",
    "        return redirect(url_for(\"index\"))\n",
    "\n",
    "    else:\n",
    "        return render_template(\"register.html\",form=form)\n",
    "    print(\"************************************************\")\n",
    "    {% with messages = get_flashed_messages(with_categories=true) %}#Massages diye yardımcı html açıyoruz\n",
    "  {% if messages %}\n",
    "    \n",
    "    {% for category, message in messages %}\n",
    "     <div class=\"alert alert-{{category}}\" role=\"alert\">\n",
    "     {{message}}\n",
    "     </div>\n",
    "    {% endfor %}\n",
    "    \n",
    "  {% endif %}\n",
    "{% endwith %}\n",
    "print(\"**********************************************\")\n",
    "{% include \"includes/massages.html\" %}#Layouta include ediyoruz tam containerın altına\n",
    "            {% block body %}\n",
    "    \n",
    "            {% endblock body %}\n",
    "    print(\"****************************************\")\n",
    "    {% macro render_field(field) %}#Buda bizim fieldlara yardımcı olması için \n",
    "  <dt>{{ field.label }}\n",
    "  <dd>{{ field(**kwargs)|safe }}\n",
    "  {% if field.errors %}\n",
    "    <ul class=errors>\n",
    "    {% for error in field.errors %}\n",
    "      <li>{{ error }}</li>\n",
    "    {% endfor %}\n",
    "    </ul>\n",
    "  {% endif %}\n",
    "  </dd>\n",
    "{% endmacro %}\n",
    "print(\"************************************\")\n",
    "{% extends \"layout.html\" %}#Register sayfamız\n",
    "\n",
    "\n",
    "{% block body %}\n",
    "{%from \"includes/formhelpers.html\" import render_field %}\n",
    "<h3>Kayıt olun</h3>\n",
    "<hr>\n",
    "<form method=\"post\">\n",
    "    {{ render_field(form.name,class=\"form-control\") }}\n",
    "    {{ render_field(form.username,class=\"form-control\") }}\n",
    "    {{ render_field(form.email,class=\"form-control\") }}\n",
    "    {{ render_field(form.password,class=\"form-control\") }}\n",
    "    {{ render_field(form.confirm,class=\"form-control\") }}\n",
    "    <button type=\"submit\" class=\"btn btn-primary\">Kayıt Ol</button>\n",
    "</form>\n",
    "\n",
    "{% endblock body %}\n",
    "print(\"**************************************\")"
   ]
  },
  {
   "cell_type": "code",
   "execution_count": null,
   "metadata": {},
   "outputs": [],
   "source": []
  },
  {
   "cell_type": "code",
   "execution_count": null,
   "metadata": {},
   "outputs": [],
   "source": []
  },
  {
   "cell_type": "code",
   "execution_count": null,
   "metadata": {},
   "outputs": [],
   "source": []
  },
  {
   "cell_type": "code",
   "execution_count": null,
   "metadata": {},
   "outputs": [],
   "source": []
  },
  {
   "cell_type": "code",
   "execution_count": null,
   "metadata": {},
   "outputs": [],
   "source": []
  },
  {
   "cell_type": "code",
   "execution_count": null,
   "metadata": {},
   "outputs": [],
   "source": []
  },
  {
   "cell_type": "code",
   "execution_count": null,
   "metadata": {},
   "outputs": [],
   "source": []
  },
  {
   "cell_type": "code",
   "execution_count": null,
   "metadata": {},
   "outputs": [],
   "source": []
  },
  {
   "cell_type": "code",
   "execution_count": null,
   "metadata": {},
   "outputs": [],
   "source": []
  },
  {
   "cell_type": "code",
   "execution_count": null,
   "metadata": {},
   "outputs": [],
   "source": []
  }
 ],
 "metadata": {
  "kernelspec": {
   "display_name": "Python 3",
   "language": "python",
   "name": "python3"
  },
  "language_info": {
   "codemirror_mode": {
    "name": "ipython",
    "version": 3
   },
   "file_extension": ".py",
   "mimetype": "text/x-python",
   "name": "python",
   "nbconvert_exporter": "python",
   "pygments_lexer": "ipython3",
   "version": "3.8.3"
  }
 },
 "nbformat": 4,
 "nbformat_minor": 4
}
