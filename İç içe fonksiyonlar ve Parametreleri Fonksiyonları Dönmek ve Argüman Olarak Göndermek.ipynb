{
 "cells": [
  {
   "cell_type": "code",
   "execution_count": 2,
   "metadata": {},
   "outputs": [],
   "source": [
    "def fonksiyon (*args):\n",
    "    for i in args:\n",
    "        print(i)"
   ]
  },
  {
   "cell_type": "code",
   "execution_count": 3,
   "metadata": {},
   "outputs": [
    {
     "name": "stdout",
     "output_type": "stream",
     "text": [
      "1\n",
      "2\n",
      "3\n"
     ]
    }
   ],
   "source": [
    "fonksiyon(1,2,3)"
   ]
  },
  {
   "cell_type": "code",
   "execution_count": 4,
   "metadata": {},
   "outputs": [
    {
     "name": "stdout",
     "output_type": "stream",
     "text": [
      "1\n",
      "2\n",
      "3\n",
      "4\n",
      "5\n",
      "6\n",
      "7\n"
     ]
    }
   ],
   "source": [
    "fonksiyon(1,2,3,4,5,6,7)"
   ]
  },
  {
   "cell_type": "code",
   "execution_count": 11,
   "metadata": {},
   "outputs": [],
   "source": [
    "def fonksiyon (isim,*args):\n",
    "    print(\"İsim:\",isim)\n",
    "    \n",
    "    for i in args:\n",
    "        print(\".......................\")\n",
    "        print(i)\n",
    "   "
   ]
  },
  {
   "cell_type": "code",
   "execution_count": 12,
   "metadata": {},
   "outputs": [
    {
     "name": "stdout",
     "output_type": "stream",
     "text": [
      "İsim: Nihat\n",
      ".......................\n",
      "1\n",
      ".......................\n",
      "2\n",
      ".......................\n",
      "3\n",
      ".......................\n",
      "4\n",
      ".......................\n",
      "5\n",
      ".......................\n",
      "6\n",
      ".......................\n",
      "7\n"
     ]
    }
   ],
   "source": [
    "fonksiyon(\"Nihat\",1,2,3,4,5,6,7)"
   ]
  },
  {
   "cell_type": "code",
   "execution_count": 13,
   "metadata": {},
   "outputs": [
    {
     "name": "stdout",
     "output_type": "stream",
     "text": [
      "*****************************************************\n"
     ]
    }
   ],
   "source": [
    "print(\"\"\"*****************************************************\"\"\")"
   ]
  },
  {
   "cell_type": "code",
   "execution_count": 16,
   "metadata": {},
   "outputs": [],
   "source": [
    "def fonksiyon (**kwargs):\n",
    "    print(kwargs)"
   ]
  },
  {
   "cell_type": "code",
   "execution_count": 18,
   "metadata": {},
   "outputs": [
    {
     "name": "stdout",
     "output_type": "stream",
     "text": [
      "{'isim': 'Nihat', 'soyisim': 'Yarar', 'numara': 124567}\n"
     ]
    }
   ],
   "source": [
    "fonksiyon(isim=\"Nihat\",soyisim=\"Yarar\",numara=124567)"
   ]
  },
  {
   "cell_type": "code",
   "execution_count": 19,
   "metadata": {},
   "outputs": [],
   "source": [
    "def fonksiyon(**kwargs):\n",
    "    for i,j in kwargs.items():\n",
    "        print(\"Argüman ismi:\",i,\"Argüman değeri:\",j)\n",
    "    "
   ]
  },
  {
   "cell_type": "code",
   "execution_count": 20,
   "metadata": {},
   "outputs": [
    {
     "name": "stdout",
     "output_type": "stream",
     "text": [
      "Argüman ismi: isim Argüman değeri: Nihat\n",
      "Argüman ismi: soyisim Argüman değeri: Yarar\n",
      "Argüman ismi: numara Argüman değeri: 124567\n"
     ]
    }
   ],
   "source": [
    "fonksiyon(isim=\"Nihat\",soyisim=\"Yarar\",numara=124567)"
   ]
  },
  {
   "cell_type": "code",
   "execution_count": 21,
   "metadata": {},
   "outputs": [],
   "source": [
    "def fonksiyon(*args,**kwargs):\n",
    "    for i in args:\n",
    "        print(i)\n",
    "    print(\"......................................\")    \n",
    "    for i,j in kwargs.items():\n",
    "        print(i,j)"
   ]
  },
  {
   "cell_type": "code",
   "execution_count": 22,
   "metadata": {},
   "outputs": [
    {
     "name": "stdout",
     "output_type": "stream",
     "text": [
      "1\n",
      "2\n",
      "4\n",
      "5\n",
      "6\n",
      "......................................\n",
      "isim Şahan\n",
      "soyisim Yarar\n",
      "numara 12421\n"
     ]
    }
   ],
   "source": [
    "fonksiyon(1,2,4,5,6,isim=\"Şahan\",soyisim=\"Yarar\",numara=12421)"
   ]
  },
  {
   "cell_type": "code",
   "execution_count": 26,
   "metadata": {},
   "outputs": [],
   "source": [
    "def selamla (isim):\n",
    "    print(\"Selam\",isim)"
   ]
  },
  {
   "cell_type": "code",
   "execution_count": 27,
   "metadata": {},
   "outputs": [
    {
     "name": "stdout",
     "output_type": "stream",
     "text": [
      "Selam Ayşe\n"
     ]
    }
   ],
   "source": [
    "selamla(\"Ayşe\")"
   ]
  },
  {
   "cell_type": "code",
   "execution_count": 29,
   "metadata": {},
   "outputs": [
    {
     "data": {
      "text/plain": [
       "<function __main__.selamla(isim)>"
      ]
     },
     "execution_count": 29,
     "metadata": {},
     "output_type": "execute_result"
    }
   ],
   "source": [
    "selamla"
   ]
  },
  {
   "cell_type": "code",
   "execution_count": 30,
   "metadata": {},
   "outputs": [],
   "source": [
    "merhaba = selamla"
   ]
  },
  {
   "cell_type": "code",
   "execution_count": 31,
   "metadata": {},
   "outputs": [
    {
     "data": {
      "text/plain": [
       "<function __main__.selamla(isim)>"
      ]
     },
     "execution_count": 31,
     "metadata": {},
     "output_type": "execute_result"
    }
   ],
   "source": [
    "merhaba"
   ]
  },
  {
   "cell_type": "code",
   "execution_count": 32,
   "metadata": {},
   "outputs": [
    {
     "name": "stdout",
     "output_type": "stream",
     "text": [
      "Selam Şahan\n"
     ]
    }
   ],
   "source": [
    "merhaba(\"Şahan\")"
   ]
  },
  {
   "cell_type": "code",
   "execution_count": 33,
   "metadata": {},
   "outputs": [],
   "source": [
    "del selamla #silmek için del"
   ]
  },
  {
   "cell_type": "code",
   "execution_count": 34,
   "metadata": {},
   "outputs": [
    {
     "ename": "NameError",
     "evalue": "name 'selamla' is not defined",
     "output_type": "error",
     "traceback": [
      "\u001b[1;31m---------------------------------------------------------------------------\u001b[0m",
      "\u001b[1;31mNameError\u001b[0m                                 Traceback (most recent call last)",
      "\u001b[1;32m<ipython-input-34-fa74f1342839>\u001b[0m in \u001b[0;36m<module>\u001b[1;34m\u001b[0m\n\u001b[1;32m----> 1\u001b[1;33m \u001b[0mselamla\u001b[0m\u001b[1;33m\u001b[0m\u001b[1;33m\u001b[0m\u001b[0m\n\u001b[0m",
      "\u001b[1;31mNameError\u001b[0m: name 'selamla' is not defined"
     ]
    }
   ],
   "source": [
    "selamla"
   ]
  },
  {
   "cell_type": "code",
   "execution_count": 35,
   "metadata": {},
   "outputs": [
    {
     "data": {
      "text/plain": [
       "<function __main__.selamla(isim)>"
      ]
     },
     "execution_count": 35,
     "metadata": {},
     "output_type": "execute_result"
    }
   ],
   "source": [
    "merhaba"
   ]
  },
  {
   "cell_type": "code",
   "execution_count": 36,
   "metadata": {},
   "outputs": [
    {
     "name": "stdout",
     "output_type": "stream",
     "text": [
      "Selam Şahan\n"
     ]
    }
   ],
   "source": [
    "merhaba(\"Şahan\")"
   ]
  },
  {
   "cell_type": "code",
   "execution_count": 37,
   "metadata": {},
   "outputs": [],
   "source": [
    "def fonksiyon():\n",
    "    \n",
    "    def fonksiyon2():\n",
    "        print(\"Küçük fonksiyondan herkese merhaba\")\n",
    "    fonksiyon2()\n",
    "    print(\"Büyük fonksiyondan herkese merhaba\")"
   ]
  },
  {
   "cell_type": "code",
   "execution_count": 38,
   "metadata": {},
   "outputs": [
    {
     "name": "stdout",
     "output_type": "stream",
     "text": [
      "Küçük fonksiyondan herkese merhaba\n",
      "Büyük fonksiyondan herkese merhaba\n"
     ]
    }
   ],
   "source": [
    "fonksiyon()"
   ]
  },
  {
   "cell_type": "code",
   "execution_count": 39,
   "metadata": {},
   "outputs": [
    {
     "ename": "NameError",
     "evalue": "name 'fonksiyon2' is not defined",
     "output_type": "error",
     "traceback": [
      "\u001b[1;31m---------------------------------------------------------------------------\u001b[0m",
      "\u001b[1;31mNameError\u001b[0m                                 Traceback (most recent call last)",
      "\u001b[1;32m<ipython-input-39-f57e2a7e4d73>\u001b[0m in \u001b[0;36m<module>\u001b[1;34m\u001b[0m\n\u001b[1;32m----> 1\u001b[1;33m \u001b[0mfonksiyon2\u001b[0m\u001b[1;33m(\u001b[0m\u001b[1;33m)\u001b[0m\u001b[1;33m\u001b[0m\u001b[1;33m\u001b[0m\u001b[0m\n\u001b[0m",
      "\u001b[1;31mNameError\u001b[0m: name 'fonksiyon2' is not defined"
     ]
    }
   ],
   "source": [
    "fonksiyon2()"
   ]
  },
  {
   "cell_type": "code",
   "execution_count": 45,
   "metadata": {},
   "outputs": [],
   "source": [
    "def fonksiyon(*args):\n",
    "    def toplama(args):\n",
    "        toplam=0\n",
    "        for i in args:\n",
    "            toplam += i\n",
    "        return toplam\n",
    "    print(toplama(args))"
   ]
  },
  {
   "cell_type": "code",
   "execution_count": 46,
   "metadata": {},
   "outputs": [
    {
     "name": "stdout",
     "output_type": "stream",
     "text": [
      "28\n"
     ]
    }
   ],
   "source": [
    "fonksiyon(1,2,3,4,5,6,7)"
   ]
  },
  {
   "cell_type": "code",
   "execution_count": 47,
   "metadata": {},
   "outputs": [
    {
     "name": "stdout",
     "output_type": "stream",
     "text": [
      "*******************************************************************\n"
     ]
    }
   ],
   "source": [
    "print(\"\"\"*******************************************************************\"\"\")"
   ]
  },
  {
   "cell_type": "code",
   "execution_count": 55,
   "metadata": {},
   "outputs": [],
   "source": [
    "def anafonksiyon(işlem_adı):\n",
    "    def toplama(*args):\n",
    "        toplam=0\n",
    "        for i in args:\n",
    "            toplam += i\n",
    "        return toplam\n",
    "    def çarpım(*args):\n",
    "        çarpım =1\n",
    "        for i in args:\n",
    "            çarpım *= i\n",
    "        return çarpım  \n",
    "    if işlem_adı==\"Toplama\":\n",
    "        return toplama\n",
    "    else:\n",
    "        return çarpım"
   ]
  },
  {
   "cell_type": "code",
   "execution_count": 49,
   "metadata": {},
   "outputs": [],
   "source": [
    "fonk=anafonksiyon(\"Toplama\")"
   ]
  },
  {
   "cell_type": "code",
   "execution_count": 50,
   "metadata": {},
   "outputs": [
    {
     "data": {
      "text/plain": [
       "<function __main__.anafonksiyon.<locals>.toplama(*args)>"
      ]
     },
     "execution_count": 50,
     "metadata": {},
     "output_type": "execute_result"
    }
   ],
   "source": [
    "fonk"
   ]
  },
  {
   "cell_type": "code",
   "execution_count": 51,
   "metadata": {},
   "outputs": [
    {
     "data": {
      "text/plain": [
       "28"
      ]
     },
     "execution_count": 51,
     "metadata": {},
     "output_type": "execute_result"
    }
   ],
   "source": [
    "fonk(1,2,3,4,5,6,7)"
   ]
  },
  {
   "cell_type": "code",
   "execution_count": 57,
   "metadata": {},
   "outputs": [],
   "source": [
    "fonk2=anafonksiyon(\"çarpım\")"
   ]
  },
  {
   "cell_type": "code",
   "execution_count": 58,
   "metadata": {},
   "outputs": [
    {
     "data": {
      "text/plain": [
       "<function __main__.anafonksiyon.<locals>.çarpım(*args)>"
      ]
     },
     "execution_count": 58,
     "metadata": {},
     "output_type": "execute_result"
    }
   ],
   "source": [
    "fonk2"
   ]
  },
  {
   "cell_type": "code",
   "execution_count": 59,
   "metadata": {},
   "outputs": [
    {
     "data": {
      "text/plain": [
       "240"
      ]
     },
     "execution_count": 59,
     "metadata": {},
     "output_type": "execute_result"
    }
   ],
   "source": [
    "fonk2(1,2,4,5,6)"
   ]
  },
  {
   "cell_type": "code",
   "execution_count": 60,
   "metadata": {},
   "outputs": [],
   "source": [
    "def toplama(a,b):\n",
    "    return a+b\n",
    "def çıkarma(a,b):\n",
    "    return a-b\n",
    "def çarpma (a,b):\n",
    "    return a*b\n",
    "def bölme (a,b):\n",
    "    return a/b"
   ]
  },
  {
   "cell_type": "code",
   "execution_count": 61,
   "metadata": {},
   "outputs": [],
   "source": [
    "def anafonskiyon(func1,func2,func3,fanc4,işlem_adı):\n",
    "    if işlem_adı ==\"toplama\":\n",
    "         print(func1(3,4))\n",
    "    elif işlem_adı ==\"çıkarma\":\n",
    "        print(func2(10,3))\n",
    "    elif işlem_adı ==\"çarpma\":\n",
    "        print(func3(3,5))\n",
    "    elif işlem_adı ==\"bölme\":\n",
    "         print(func4(10,4))\n",
    "    else:\n",
    "        print(\"Geçersiz işlem......\")"
   ]
  },
  {
   "cell_type": "code",
   "execution_count": 64,
   "metadata": {},
   "outputs": [
    {
     "name": "stdout",
     "output_type": "stream",
     "text": [
      "7\n"
     ]
    }
   ],
   "source": [
    "anafonskiyon(toplama,çıkarma,çarpma,bölme,\"toplama\")"
   ]
  },
  {
   "cell_type": "code",
   "execution_count": 65,
   "metadata": {},
   "outputs": [
    {
     "name": "stdout",
     "output_type": "stream",
     "text": [
      "15\n"
     ]
    }
   ],
   "source": [
    "anafonskiyon(toplama,çıkarma,çarpma,bölme,\"çarpma\")"
   ]
  },
  {
   "cell_type": "code",
   "execution_count": null,
   "metadata": {},
   "outputs": [],
   "source": []
  },
  {
   "cell_type": "code",
   "execution_count": null,
   "metadata": {},
   "outputs": [],
   "source": []
  },
  {
   "cell_type": "code",
   "execution_count": null,
   "metadata": {},
   "outputs": [],
   "source": []
  }
 ],
 "metadata": {
  "kernelspec": {
   "display_name": "Python 3",
   "language": "python",
   "name": "python3"
  },
  "language_info": {
   "codemirror_mode": {
    "name": "ipython",
    "version": 3
   },
   "file_extension": ".py",
   "mimetype": "text/x-python",
   "name": "python",
   "nbconvert_exporter": "python",
   "pygments_lexer": "ipython3",
   "version": "3.8.3"
  }
 },
 "nbformat": 4,
 "nbformat_minor": 4
}
