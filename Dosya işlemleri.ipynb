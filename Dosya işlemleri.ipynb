{
 "cells": [
  {
   "cell_type": "code",
   "execution_count": null,
   "metadata": {},
   "outputs": [],
   "source": [
    "print(\"Dosyaları yazmak için w /Eğer başka bilgiler yoksa oluşturur /varsa siler yenisi yazar\")"
   ]
  },
  {
   "cell_type": "code",
   "execution_count": 1,
   "metadata": {},
   "outputs": [
    {
     "data": {
      "text/plain": [
       "<_io.TextIOWrapper name='bilgiler.txt' mode='w' encoding='cp1254'>"
      ]
     },
     "execution_count": 1,
     "metadata": {},
     "output_type": "execute_result"
    }
   ],
   "source": [
    "open(\"bilgiler.txt\",\"w\")"
   ]
  },
  {
   "cell_type": "code",
   "execution_count": 2,
   "metadata": {},
   "outputs": [],
   "source": [
    "file =open(\"bilgiler.txt\",\"w\")"
   ]
  },
  {
   "cell_type": "code",
   "execution_count": 14,
   "metadata": {},
   "outputs": [],
   "source": [
    "file.close()"
   ]
  },
  {
   "cell_type": "code",
   "execution_count": null,
   "metadata": {},
   "outputs": [],
   "source": [
    "file = open(\"C:/Users/user/Desktop/bilgiler.txt\",\"w\") # çalıştıramadım"
   ]
  },
  {
   "cell_type": "code",
   "execution_count": null,
   "metadata": {},
   "outputs": [],
   "source": []
  },
  {
   "cell_type": "code",
   "execution_count": 19,
   "metadata": {},
   "outputs": [],
   "source": [
    "file =open(\"bilgiler.txt\",\"w\",encoding=\"utf-8\")"
   ]
  },
  {
   "cell_type": "code",
   "execution_count": 20,
   "metadata": {},
   "outputs": [
    {
     "data": {
      "text/plain": [
       "17"
      ]
     },
     "execution_count": 20,
     "metadata": {},
     "output_type": "execute_result"
    }
   ],
   "source": [
    "file.write(\"Nihat Şahan Yarar\")"
   ]
  },
  {
   "cell_type": "code",
   "execution_count": 21,
   "metadata": {},
   "outputs": [],
   "source": [
    "file.close()"
   ]
  },
  {
   "cell_type": "code",
   "execution_count": null,
   "metadata": {},
   "outputs": [],
   "source": []
  },
  {
   "cell_type": "code",
   "execution_count": 22,
   "metadata": {},
   "outputs": [],
   "source": [
    "file =open(\"bilgiler.txt\",\"w\",encoding=\"utf-8\")"
   ]
  },
  {
   "cell_type": "code",
   "execution_count": 23,
   "metadata": {},
   "outputs": [],
   "source": [
    "file.close()"
   ]
  },
  {
   "cell_type": "code",
   "execution_count": null,
   "metadata": {},
   "outputs": [],
   "source": [
    "print(\"Append(ekleme)'den gelen a /eğer dosya yoksa oluşturulur/eğer varsa oluşturulmaz dosyaya ekletir\")"
   ]
  },
  {
   "cell_type": "code",
   "execution_count": 24,
   "metadata": {},
   "outputs": [],
   "source": [
    "file =open(\"bilgiler.txt\",\"a\",encoding=\"utf-8\")"
   ]
  },
  {
   "cell_type": "code",
   "execution_count": 25,
   "metadata": {},
   "outputs": [
    {
     "data": {
      "text/plain": [
       "17"
      ]
     },
     "execution_count": 25,
     "metadata": {},
     "output_type": "execute_result"
    }
   ],
   "source": [
    "file.write(\"Nihat Şahan Yarar\")"
   ]
  },
  {
   "cell_type": "code",
   "execution_count": 27,
   "metadata": {},
   "outputs": [],
   "source": [
    "file.close()"
   ]
  },
  {
   "cell_type": "code",
   "execution_count": 28,
   "metadata": {},
   "outputs": [],
   "source": [
    "file =open(\"bilgiler.txt\",\"a\",encoding=\"utf-8\")"
   ]
  },
  {
   "cell_type": "code",
   "execution_count": 29,
   "metadata": {},
   "outputs": [
    {
     "data": {
      "text/plain": [
       "15"
      ]
     },
     "execution_count": 29,
     "metadata": {},
     "output_type": "execute_result"
    }
   ],
   "source": [
    "file.write(\"Yusuf Ata Yarar\")"
   ]
  },
  {
   "cell_type": "code",
   "execution_count": 31,
   "metadata": {},
   "outputs": [],
   "source": [
    "file.close()"
   ]
  },
  {
   "cell_type": "code",
   "execution_count": 32,
   "metadata": {},
   "outputs": [],
   "source": [
    "file =open(\"bilgiler.txt\",\"a\",encoding=\"utf-8\")"
   ]
  },
  {
   "cell_type": "code",
   "execution_count": 33,
   "metadata": {},
   "outputs": [
    {
     "data": {
      "text/plain": [
       "11"
      ]
     },
     "execution_count": 33,
     "metadata": {},
     "output_type": "execute_result"
    }
   ],
   "source": [
    "file.write(\"Selin Yarar\")"
   ]
  },
  {
   "cell_type": "code",
   "execution_count": 35,
   "metadata": {},
   "outputs": [],
   "source": [
    "file.close()"
   ]
  },
  {
   "cell_type": "code",
   "execution_count": null,
   "metadata": {},
   "outputs": [],
   "source": [
    "\\n"
   ]
  },
  {
   "cell_type": "code",
   "execution_count": 36,
   "metadata": {},
   "outputs": [],
   "source": [
    "file =open(\"bilgiler.txt\",\"a\",encoding=\"utf-8\")"
   ]
  },
  {
   "cell_type": "code",
   "execution_count": 37,
   "metadata": {},
   "outputs": [
    {
     "data": {
      "text/plain": [
       "18"
      ]
     },
     "execution_count": 37,
     "metadata": {},
     "output_type": "execute_result"
    }
   ],
   "source": [
    "file.write(\"Nihat Şahan Yarar\\n\")"
   ]
  },
  {
   "cell_type": "code",
   "execution_count": 39,
   "metadata": {},
   "outputs": [],
   "source": [
    "file.close()"
   ]
  },
  {
   "cell_type": "code",
   "execution_count": 41,
   "metadata": {},
   "outputs": [],
   "source": [
    "file =open(\"bilgiler.txt\",\"a\",encoding=\"utf-8\")"
   ]
  },
  {
   "cell_type": "code",
   "execution_count": 42,
   "metadata": {},
   "outputs": [
    {
     "data": {
      "text/plain": [
       "7"
      ]
     },
     "execution_count": 42,
     "metadata": {},
     "output_type": "execute_result"
    }
   ],
   "source": [
    "file.write(\"Mehmet\\n\")"
   ]
  },
  {
   "cell_type": "code",
   "execution_count": 43,
   "metadata": {},
   "outputs": [],
   "source": [
    "file.close()"
   ]
  },
  {
   "cell_type": "code",
   "execution_count": 44,
   "metadata": {},
   "outputs": [
    {
     "name": "stdout",
     "output_type": "stream",
     "text": [
      "**********************************************************************************\n"
     ]
    }
   ],
   "source": [
    "print(\"\"\"**********************************************************************************\"\"\")"
   ]
  },
  {
   "cell_type": "code",
   "execution_count": 45,
   "metadata": {},
   "outputs": [],
   "source": [
    "file =open(\"bilgiler.txt\",\"r\")"
   ]
  },
  {
   "cell_type": "code",
   "execution_count": 46,
   "metadata": {},
   "outputs": [],
   "source": [
    "file.close()"
   ]
  },
  {
   "cell_type": "code",
   "execution_count": 47,
   "metadata": {},
   "outputs": [
    {
     "ename": "FileNotFoundError",
     "evalue": "[Errno 2] No such file or directory: 'bilgiler2.txt'",
     "output_type": "error",
     "traceback": [
      "\u001b[1;31m---------------------------------------------------------------------------\u001b[0m",
      "\u001b[1;31mFileNotFoundError\u001b[0m                         Traceback (most recent call last)",
      "\u001b[1;32m<ipython-input-47-45ba965f9767>\u001b[0m in \u001b[0;36m<module>\u001b[1;34m\u001b[0m\n\u001b[1;32m----> 1\u001b[1;33m \u001b[0mfile\u001b[0m\u001b[1;33m=\u001b[0m\u001b[0mopen\u001b[0m\u001b[1;33m(\u001b[0m\u001b[1;34m\"bilgiler2.txt\"\u001b[0m\u001b[1;33m,\u001b[0m\u001b[1;34m\"r\"\u001b[0m\u001b[1;33m)\u001b[0m\u001b[1;33m\u001b[0m\u001b[1;33m\u001b[0m\u001b[0m\n\u001b[0m",
      "\u001b[1;31mFileNotFoundError\u001b[0m: [Errno 2] No such file or directory: 'bilgiler2.txt'"
     ]
    }
   ],
   "source": [
    "file=open(\"bilgiler2.txt\",\"r\")"
   ]
  },
  {
   "cell_type": "code",
   "execution_count": 48,
   "metadata": {},
   "outputs": [
    {
     "name": "stdout",
     "output_type": "stream",
     "text": [
      "Dosya bulunamadı...............\n"
     ]
    }
   ],
   "source": [
    " try:\n",
    "        \n",
    "        file=open(\"bilgiler2.txt\",\"r\")        \n",
    "except  FileNotFoundError:\n",
    "    print(\"Dosya bulunamadı...............\")"
   ]
  },
  {
   "cell_type": "code",
   "execution_count": 51,
   "metadata": {},
   "outputs": [
    {
     "name": "stdout",
     "output_type": "stream",
     "text": [
      "Nihat Şahan Yarar\n",
      "\n",
      "Mehmet\n",
      "\n"
     ]
    }
   ],
   "source": [
    "file =open(\"bilgiler.txt\",\"r\",encoding=\"utf-8\")\n",
    "\n",
    "for i in file:\n",
    "    print(i)\n",
    "file.close()    "
   ]
  },
  {
   "cell_type": "code",
   "execution_count": 52,
   "metadata": {},
   "outputs": [
    {
     "name": "stdout",
     "output_type": "stream",
     "text": [
      "Dosyanın içeriği: Nihat Şahan Yarar\n",
      "Mehmet\n",
      "\n"
     ]
    }
   ],
   "source": [
    "file =open(\"bilgiler.txt\",\"r\",encoding=\"utf-8\")\n",
    "içerik =file.read()\n",
    "print(\"Dosyanın içeriği:\",içerik)"
   ]
  },
  {
   "cell_type": "code",
   "execution_count": 53,
   "metadata": {},
   "outputs": [
    {
     "name": "stdout",
     "output_type": "stream",
     "text": [
      "Dosyanın içeriği:\n",
      "Nihat Şahan Yarar\n",
      "Mehmet\n",
      "\n",
      "Dosyanın içeriği2:\n",
      "\n"
     ]
    }
   ],
   "source": [
    "file =open(\"bilgiler.txt\",\"r\",encoding=\"utf-8\")\n",
    "içerik =file.read()\n",
    "print(\"Dosyanın içeriği:\")\n",
    "print(içerik)\n",
    "içerik2 =file.read()\n",
    "print(\"Dosyanın içeriği2:\")\n",
    "print(içerik2)"
   ]
  },
  {
   "cell_type": "code",
   "execution_count": 54,
   "metadata": {},
   "outputs": [],
   "source": [
    "file =open(\"bilgiler.txt\",\"r\",encoding=\"utf-8\")"
   ]
  },
  {
   "cell_type": "code",
   "execution_count": 55,
   "metadata": {},
   "outputs": [
    {
     "name": "stdout",
     "output_type": "stream",
     "text": [
      "Nihat Şahan Yarar\n",
      "\n"
     ]
    }
   ],
   "source": [
    "print(file.readline())\n",
    "file.close()"
   ]
  },
  {
   "cell_type": "code",
   "execution_count": 60,
   "metadata": {},
   "outputs": [
    {
     "name": "stdout",
     "output_type": "stream",
     "text": [
      "Nihat Şahan Yarar\n",
      "\n",
      "Mehmet\n",
      "\n",
      "\n",
      "****************************\n",
      "\n"
     ]
    }
   ],
   "source": [
    "file =open(\"bilgiler.txt\",\"r\",encoding=\"utf-8\")\n",
    "print(file.readline())\n",
    "print(file.readline())\n",
    "print(file.readline())\n",
    "print(\"****************************\")\n",
    "print(file.readline())\n",
    "file.close()"
   ]
  },
  {
   "cell_type": "code",
   "execution_count": 59,
   "metadata": {},
   "outputs": [
    {
     "name": "stdout",
     "output_type": "stream",
     "text": [
      "['Nihat Şahan Yarar\\n', 'Mehmet\\n']\n"
     ]
    }
   ],
   "source": [
    "file =open(\"bilgiler.txt\",\"r\",encoding=\"utf-8\")\n",
    "liste =file.readlines()\n",
    "print(liste)\n",
    "file.close()"
   ]
  },
  {
   "cell_type": "code",
   "execution_count": 61,
   "metadata": {},
   "outputs": [
    {
     "name": "stdout",
     "output_type": "stream",
     "text": [
      "Nihat Şahan Yarar\n",
      "\n",
      "Mehmet\n",
      "\n"
     ]
    }
   ],
   "source": [
    "with open (\"bilgiler.txt\",\"r\",encoding=\"utf-8\") as file:\n",
    "    for i in file:\n",
    "        print(i)"
   ]
  },
  {
   "cell_type": "code",
   "execution_count": 62,
   "metadata": {},
   "outputs": [
    {
     "name": "stdout",
     "output_type": "stream",
     "text": [
      "0\n"
     ]
    }
   ],
   "source": [
    "with open (\"bilgiler.txt\",\"r\",encoding=\"utf-8\") as file:\n",
    "    print(file.tell())\n",
    "      "
   ]
  },
  {
   "cell_type": "code",
   "execution_count": 63,
   "metadata": {},
   "outputs": [
    {
     "name": "stdout",
     "output_type": "stream",
     "text": [
      "0\n",
      "20\n"
     ]
    }
   ],
   "source": [
    "with open (\"bilgiler.txt\",\"r\",encoding=\"utf-8\") as file:\n",
    "    print(file.tell())\n",
    "    file.seek(20)\n",
    "    print(file.tell())"
   ]
  },
  {
   "cell_type": "code",
   "execution_count": 67,
   "metadata": {},
   "outputs": [],
   "source": [
    "file=open(\"bilgiler.txt\",\"w\",encoding=\"utf-8\")\n"
   ]
  },
  {
   "cell_type": "code",
   "execution_count": 68,
   "metadata": {},
   "outputs": [],
   "source": [
    "file.write(\"Python,Java,C,Php,Programlama dilleridir\")\n",
    "file.close()"
   ]
  },
  {
   "cell_type": "code",
   "execution_count": 69,
   "metadata": {},
   "outputs": [
    {
     "name": "stdout",
     "output_type": "stream",
     "text": [
      "n,Java,C,P\n"
     ]
    }
   ],
   "source": [
    "with open(\"bilgiler.txt\",\"r\",encoding=\"utf-8\") as file:\n",
    "    file.seek(5)\n",
    "    içerik=file.read(10)\n",
    "    print(içerik)"
   ]
  },
  {
   "cell_type": "code",
   "execution_count": null,
   "metadata": {},
   "outputs": [],
   "source": [
    "print(\"Python,Java,C,Php,Programlama dilleridir/Dosya bu şuanda\")"
   ]
  },
  {
   "cell_type": "code",
   "execution_count": 70,
   "metadata": {},
   "outputs": [
    {
     "name": "stdout",
     "output_type": "stream",
     "text": [
      "15\n",
      "n,Java,C,P\n"
     ]
    }
   ],
   "source": [
    "with open(\"bilgiler.txt\",\"r\",encoding=\"utf-8\") as file:\n",
    "    file.seek(5)\n",
    "    içerik=file.read(10)\n",
    "    print(file.tell())\n",
    "    print(içerik)"
   ]
  },
  {
   "cell_type": "code",
   "execution_count": 72,
   "metadata": {},
   "outputs": [
    {
     "name": "stdout",
     "output_type": "stream",
     "text": [
      "Python\n",
      "n,Java,C,P\n"
     ]
    }
   ],
   "source": [
    "with open(\"bilgiler.txt\",\"r\",encoding=\"utf-8\") as file:\n",
    "    file.seek(5)\n",
    "    içerik=file.read(10)\n",
    "    file.seek(0)\n",
    "    içerik2=file.read(6)\n",
    "    print(içerik2)\n",
    "    print(içerik)"
   ]
  },
  {
   "cell_type": "code",
   "execution_count": 1,
   "metadata": {},
   "outputs": [],
   "source": [
    "file=open(\"bilgiler.txt\",\"w\",encoding=\"utf-8\")\n",
    "file.close()"
   ]
  },
  {
   "cell_type": "code",
   "execution_count": 23,
   "metadata": {},
   "outputs": [
    {
     "name": "stdout",
     "output_type": "stream",
     "text": [
      "***********************************************************************************\n"
     ]
    }
   ],
   "source": [
    "print(\"***********************************************************************************\")"
   ]
  },
  {
   "cell_type": "code",
   "execution_count": 2,
   "metadata": {},
   "outputs": [],
   "source": [
    "file=open(\"bilgiler.txt\",\"w\",encoding=\"utf-8\")\n",
    "file.write(\"Mustafa Murat Çoşkun\\nOğuz Arıtan\\nSerhat say\\nMehmet Gençol\\n\")\n",
    "file.close()"
   ]
  },
  {
   "cell_type": "code",
   "execution_count": null,
   "metadata": {},
   "outputs": [],
   "source": [
    "print(\"r+/hem yazma hem okumak için\")"
   ]
  },
  {
   "cell_type": "code",
   "execution_count": 3,
   "metadata": {},
   "outputs": [
    {
     "name": "stdout",
     "output_type": "stream",
     "text": [
      "Mustafa Murat Çoşkun\n",
      "Oğuz Arıtan\n",
      "Serhat say\n",
      "Mehmet Gençol\n",
      "\n"
     ]
    }
   ],
   "source": [
    "with open(\"bilgiler.txt\",\"r+\",encoding=\"utf-8\")as file:\n",
    "    print(file.read())"
   ]
  },
  {
   "cell_type": "code",
   "execution_count": 5,
   "metadata": {},
   "outputs": [],
   "source": [
    "with open(\"bilgiler.txt\",\"r+\",encoding=\"utf-8\")as file:\n",
    "    file.seek(10)\n",
    "    file.write(\"Deneme\")\n",
    "\n",
    "   "
   ]
  },
  {
   "cell_type": "code",
   "execution_count": 6,
   "metadata": {},
   "outputs": [
    {
     "name": "stdout",
     "output_type": "stream",
     "text": [
      "Mustafa MuDenemeoşkun\n",
      "Oğuz Arıtan\n",
      "Serhat say\n",
      "Mehmet Gençol\n",
      "\n"
     ]
    }
   ],
   "source": [
    "with open(\"bilgiler.txt\",\"r+\",encoding=\"utf-8\")as file:\n",
    "    print(file.read())"
   ]
  },
  {
   "cell_type": "code",
   "execution_count": 8,
   "metadata": {},
   "outputs": [
    {
     "name": "stdout",
     "output_type": "stream",
     "text": [
      "Mustafa Murat Çoşkun\n",
      "Oğuz Arıtan\n",
      "Serhat say\n",
      "Mehmet Gençol\n",
      "\n"
     ]
    }
   ],
   "source": [
    "with open(\"bilgiler.txt\",\"r+\",encoding=\"utf-8\")as file:\n",
    "    print(file.read())\n"
   ]
  },
  {
   "cell_type": "code",
   "execution_count": 9,
   "metadata": {},
   "outputs": [],
   "source": [
    "with open(\"bilgiler.txt\",\"a\",encoding=\"utf-8\")as file:\n",
    "    file.write(\"Mert Eraslan\\n\")\n",
    "    "
   ]
  },
  {
   "cell_type": "code",
   "execution_count": 10,
   "metadata": {},
   "outputs": [
    {
     "name": "stdout",
     "output_type": "stream",
     "text": [
      "Mustafa Murat Çoşkun\n",
      "Oğuz Arıtan\n",
      "Serhat say\n",
      "Mehmet Gençol\n",
      "Mert Eraslan\n",
      "\n"
     ]
    }
   ],
   "source": [
    "with open(\"bilgiler.txt\",\"r+\",encoding=\"utf-8\")as file:\n",
    "    print(file.read())"
   ]
  },
  {
   "cell_type": "code",
   "execution_count": 11,
   "metadata": {},
   "outputs": [],
   "source": [
    "with open(\"bilgiler.txt\",\"a\",encoding=\"utf-8\")as file:\n",
    "    file.write(\"Semih Aktaş\\n\")\n",
    "    "
   ]
  },
  {
   "cell_type": "code",
   "execution_count": 12,
   "metadata": {},
   "outputs": [
    {
     "name": "stdout",
     "output_type": "stream",
     "text": [
      "Mustafa Murat Çoşkun\n",
      "Oğuz Arıtan\n",
      "Serhat say\n",
      "Mehmet Gençol\n",
      "Mert Eraslan\n",
      "Semih Aktaş\n",
      "\n"
     ]
    }
   ],
   "source": [
    "with open(\"bilgiler.txt\",\"r+\",encoding=\"utf-8\")as file:\n",
    "    print(file.read())"
   ]
  },
  {
   "cell_type": "code",
   "execution_count": 21,
   "metadata": {},
   "outputs": [],
   "source": [
    "with open(\"bilgiler.txt\",\"r+\",encoding=\"utf-8\")as file:\n",
    "    içerik=file.read()\n",
    "    içerik=\"Mehmet Keper\\n\"+içerik\n",
    "    file.seek(0)\n",
    "    file.write(içerik)"
   ]
  },
  {
   "cell_type": "code",
   "execution_count": 22,
   "metadata": {},
   "outputs": [
    {
     "name": "stdout",
     "output_type": "stream",
     "text": [
      "Mehmet Keper\n",
      "Mustafa Murat Çoşkun\n",
      "Oğuz Arıtan\n",
      "Serhat say\n",
      "Mehmet Gençol\n",
      "Mert Eraslan\n",
      "Semih Aktaş\n",
      "\n"
     ]
    }
   ],
   "source": [
    "with open(\"bilgiler.txt\",\"r+\",encoding=\"utf-8\")as file:\n",
    "    print(file.read())"
   ]
  },
  {
   "cell_type": "code",
   "execution_count": 24,
   "metadata": {},
   "outputs": [
    {
     "name": "stdout",
     "output_type": "stream",
     "text": [
      "['Mehmet Keper\\n', 'Mustafa Murat Çoşkun\\n', 'Oğuz Arıtan\\n', 'Serhat say\\n', 'Mehmet Gençol\\n', 'Mert Eraslan\\n', 'Semih Aktaş\\n']\n"
     ]
    }
   ],
   "source": [
    "with open(\"bilgiler.txt\",\"r+\",encoding=\"utf-8\")as file:\n",
    "    liste=file.readlines()\n",
    "    print(liste)"
   ]
  },
  {
   "cell_type": "code",
   "execution_count": 28,
   "metadata": {},
   "outputs": [],
   "source": [
    "with open(\"bilgiler.txt\",\"r+\",encoding=\"utf-8\")as file:\n",
    "    liste=file.readlines()\n",
    "    liste.insert(3,\"Ahmet baltacın\\n\")\n",
    "    file.seek(0)\n",
    "    for i in liste:\n",
    "        file.write(i)"
   ]
  },
  {
   "cell_type": "code",
   "execution_count": 30,
   "metadata": {},
   "outputs": [
    {
     "name": "stdout",
     "output_type": "stream",
     "text": [
      "Mehmet Keper\n",
      "Mustafa Murat Çoşkun\n",
      "Oğuz Arıtan\n",
      "Ahmet baltacı\n",
      "Serhat say\n",
      "Mehmet Gençol\n",
      "Mert Eraslan\n",
      "Semih Aktaş\n",
      "\n"
     ]
    }
   ],
   "source": [
    "with open(\"bilgiler.txt\",\"r+\",encoding=\"utf-8\")as file:\n",
    "    print(file.read())"
   ]
  },
  {
   "cell_type": "code",
   "execution_count": null,
   "metadata": {},
   "outputs": [],
   "source": [
    "with open(\"bilgiler.txt\",\"r+\",encoding=\"utf-8\")as file:\n",
    "    liste=file.readlines()\n",
    "    liste.insert(3,\"Tahsin Sütcüoğlu\\n\")\n",
    "    file.seek(0)\n",
    "    file.writelin"
   ]
  },
  {
   "cell_type": "code",
   "execution_count": null,
   "metadata": {},
   "outputs": [],
   "source": []
  },
  {
   "cell_type": "code",
   "execution_count": null,
   "metadata": {},
   "outputs": [],
   "source": []
  },
  {
   "cell_type": "code",
   "execution_count": null,
   "metadata": {},
   "outputs": [],
   "source": []
  }
 ],
 "metadata": {
  "kernelspec": {
   "display_name": "Python 3",
   "language": "python",
   "name": "python3"
  },
  "language_info": {
   "codemirror_mode": {
    "name": "ipython",
    "version": 3
   },
   "file_extension": ".py",
   "mimetype": "text/x-python",
   "name": "python",
   "nbconvert_exporter": "python",
   "pygments_lexer": "ipython3",
   "version": "3.8.3"
  }
 },
 "nbformat": 4,
 "nbformat_minor": 4
}
